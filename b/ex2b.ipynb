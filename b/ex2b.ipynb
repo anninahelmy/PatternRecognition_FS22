{
 "cells": [
  {
   "cell_type": "markdown",
   "metadata": {},
   "source": [
    "# Exercise 2b\n",
    "First we import the libraries we need:"
   ]
  },
  {
   "cell_type": "code",
   "execution_count": 1,
   "metadata": {},
   "outputs": [],
   "source": [
    "from sklearn.neural_network import MLPClassifier\n",
    "from sklearn.model_selection import GridSearchCV\n",
    "from PIL import Image\n",
    "from os import listdir\n",
    "from functools import reduce\n",
    "import numpy as np\n",
    "import matplotlib.pyplot as plt\n",
    "from IPython.display import display\n",
    "import time"
   ]
  },
  {
   "cell_type": "markdown",
   "metadata": {},
   "source": [
    "Next, we load the images (you might have to adjust the paths here):"
   ]
  },
  {
   "cell_type": "code",
   "execution_count": 2,
   "metadata": {},
   "outputs": [
    {
     "name": "stdout",
     "output_type": "stream",
     "text": [
      "Shape of x_train: (60000, 784); shape of y_train: (60000,).\n",
      "Shape of x_test: (10000, 784); shape of y_test: (10000,).\n"
     ]
    }
   ],
   "source": [
    "# benno\n",
    "# train_folder = \"C:/Users/bennx/OneDrive/Desktop/mnist-png-format/train/\"\n",
    "# test_folder = \"C:/Users/bennx/OneDrive/Desktop/mnist-png-format/test/\"\n",
    "\n",
    "# david\n",
    "train_folder = \"../mnist-png-format/train/\"\n",
    "test_folder = \"../mnist-png-format/test/\"\n",
    "\n",
    "def load_images(folder_path):\n",
    "    data = {int(s): [np.asarray(Image.open(f\"{folder_path}/{s}/{p}\")).reshape(-1, )\n",
    "        for p in listdir(f\"{folder_path}{s}\")\n",
    "    ] for s in listdir(folder_path)}\n",
    "\n",
    "    (ys, xs) = reduce(\n",
    "        lambda a, b: (a[0] + [b[0]]*len(b[1]), a[1] + b[1]),\n",
    "        data.items(),\n",
    "        ([], [])\n",
    "    )\n",
    "\n",
    "    return np.array(ys), np.array(xs)\n",
    "\n",
    "y_test, x_test = load_images(test_folder)\n",
    "y_train, x_train = load_images(train_folder)\n",
    "\n",
    "print(f\"Shape of x_train: {x_train.shape}; shape of y_train: {y_train.shape}.\")\n",
    "print(f\"Shape of x_test: {x_test.shape}; shape of y_test: {y_test.shape}.\")"
   ]
  },
  {
   "cell_type": "markdown",
   "metadata": {},
   "source": [
    "Now we train the classifier from sklearn (100 neurons in the hidden layer), no optimization yet:"
   ]
  },
  {
   "cell_type": "code",
   "execution_count": 3,
   "metadata": {},
   "outputs": [
    {
     "name": "stdout",
     "output_type": "stream",
     "text": [
      "Time spent to execute the classification: 45.54 seconds.\n"
     ]
    }
   ],
   "source": [
    "t100 = time.perf_counter()\n",
    "clf100 = MLPClassifier(hidden_layer_sizes=(100,))\n",
    "clf100.fit(x_train, y_train)\n",
    "t100 = time.perf_counter() - t100\n",
    "print(f\"Time spent to execute the classification: {round(t100,2)} seconds.\")"
   ]
  },
  {
   "cell_type": "markdown",
   "metadata": {},
   "source": [
    "We can now apply the classification and use a method of the classifier to calculate the score (accuracy) of our Multi Layer Preceptron classifier:"
   ]
  },
  {
   "cell_type": "code",
   "execution_count": 4,
   "metadata": {},
   "outputs": [
    {
     "name": "stdout",
     "output_type": "stream",
     "text": [
      "Classifier has 10 outputs. Let us demonstrate the classification of four random images from the test set:\n"
     ]
    },
    {
     "data": {
      "image/png": "[encoded data removed]",
      "text/plain": [
       "<PIL.Image.Image image mode=L size=28x28 at 0x7FAB2DF36220>"
      ]
     },
     "metadata": {},
     "output_type": "display_data"
    },
    {
     "data": {
      "image/png": "[encoded data removed]",
      "text/plain": [
       "<PIL.Image.Image image mode=L size=28x28 at 0x7FAB2DF362B0>"
      ]
     },
     "metadata": {},
     "output_type": "display_data"
    },
    {
     "data": {
      "image/png": "[encoded data removed]",
      "text/plain": [
       "<PIL.Image.Image image mode=L size=28x28 at 0x7FAB2DF36220>"
      ]
     },
     "metadata": {},
     "output_type": "display_data"
    },
    {
     "data": {
      "image/png": "[encoded data removed]",
      "text/plain": [
       "<PIL.Image.Image image mode=L size=28x28 at 0x7FAB2DF362B0>"
      ]
     },
     "metadata": {},
     "output_type": "display_data"
    },
    {
     "name": "stdout",
     "output_type": "stream",
     "text": [
      "The images above get classified as: [3 4 0 9]\n",
      "Accuracy = 0.9695 for 100 neurons in the hidden layer.\n"
     ]
    }
   ],
   "source": [
    "score100 = clf100.score(x_test, y_test)\n",
    "print(f\"Classifier has {clf100.n_outputs_} outputs. Let us demonstrate the classification of four random images from the test set:\")\n",
    "a, b, c, d = x_test[np.random.choice(list(range(len(x_test))), size=4)]\n",
    "display(Image.fromarray(a.reshape((28, 28)), 'L'))\n",
    "display(Image.fromarray(b.reshape((28, 28)), 'L'))\n",
    "display(Image.fromarray(c.reshape((28, 28)), 'L'))\n",
    "display(Image.fromarray(d.reshape((28, 28)), 'L'))\n",
    "print(f\"The images above get classified as: {clf100.predict([a, b, c, d])}\")\n",
    "print(f\"Accuracy = {score100} for 100 neurons in the hidden layer.\")"
   ]
  },
  {
   "cell_type": "markdown",
   "metadata": {},
   "source": [
    "Now we experiment with some parameters. <br>\n",
    "First we optimize the number of neurons in the hidden layer in range [10, 100]:"
   ]
  },
  {
   "cell_type": "code",
   "execution_count": 5,
   "metadata": {},
   "outputs": [
    {
     "name": "stdout",
     "output_type": "stream",
     "text": [
      "Accuracy = 0.8981 for 10 neurons in the hidden layer with a run time of 30.79 seconds.\n",
      "Accuracy = 0.9297 for 20 neurons in the hidden layer with a run time of 72.81 seconds.\n",
      "Accuracy = 0.9464 for 40 neurons in the hidden layer with a run time of 71.09 seconds.\n",
      "Accuracy = 0.961 for 80 neurons in the hidden layer with a run time of 54.51 seconds.\n",
      "Accuracy = 0.9695 for 100 neurons in the hidden layer with a run time of 45.54 seconds.\n"
     ]
    }
   ],
   "source": [
    "intervalHL = [10, 20, 40, 80, 100]\n",
    "for i in intervalHL:\n",
    "    if(i == 100):\n",
    "        print(f\"Accuracy = {score100} for {i} neurons in the hidden layer with a run time of {round(t100,2)} seconds.\")\n",
    "    else:\n",
    "        t = time.perf_counter()\n",
    "        clf = MLPClassifier(hidden_layer_sizes=(i,))\n",
    "        clf.fit(x_train, y_train)\n",
    "        score = clf.score(x_test, y_test)\n",
    "        t = time.perf_counter() - t\n",
    "        print(f\"Accuracy = {score} for {i} neurons in the hidden layer with a run time of {round(t,2)} seconds.\")"
   ]
  },
  {
   "cell_type": "markdown",
   "metadata": {},
   "source": [
    "Since the accuracy increases with the number of neurons in the hidden layer and the sklearn MLP algorithm terminates if a certain level of convergence is reached (and the more neurons the faster the convergence), we see that the run time usually first increases and then decreases. Thus we optimize the learning rate for a MLP with 100 neurons. <br>\n",
    "Optimizing the learning rate in range [0.001, 0.1]:"
   ]
  },
  {
   "cell_type": "code",
   "execution_count": 6,
   "metadata": {},
   "outputs": [
    {
     "name": "stdout",
     "output_type": "stream",
     "text": [
      "Accuracy = 0.9695 for learning rate 0.001 with a run time of 45.54 seconds.\n",
      "Accuracy = 0.1283 for learning rate 0.025750000000000002 with a run time of 9.23 seconds.\n",
      "Accuracy = 0.1011 for learning rate 0.0505 with a run time of 8.08 seconds.\n",
      "Accuracy = 0.1033 for learning rate 0.07525000000000001 with a run time of 8.35 seconds.\n",
      "Accuracy = 0.1161 for learning rate 0.1 with a run time of 8.01 seconds.\n"
     ]
    }
   ],
   "source": [
    "n_intervals = 5\n",
    "intervalLR = [(n_intervals - 1 - i)/(n_intervals - 1) * 0.001 + i/(n_intervals - 1) * 0.1 for i in range(n_intervals)]\n",
    "for i in intervalLR:\n",
    "    if(i==0.001):\n",
    "        print(f\"Accuracy = {score100} for learning rate {i} with a run time of {round(t100,2)} seconds.\")\n",
    "    else:\n",
    "        t = time.perf_counter()\n",
    "        clf = MLPClassifier(hidden_layer_sizes=(100,), learning_rate_init=i)\n",
    "        clf.fit(x_train, y_train)\n",
    "        score = clf.score(x_test, y_test)\n",
    "        t = time.perf_counter() - t\n",
    "        print(f\"Accuracy = {score} for learning rate {i} with a run time of {round(t,2)} seconds.\")"
   ]
  },
  {
   "cell_type": "markdown",
   "metadata": {},
   "source": [
    "Alright, the accuracy drops insanly fast if we increase the learning rate. Let us keep it then at 0.001 (which is default in sklearn anyway)."
   ]
  },
  {
   "cell_type": "markdown",
   "metadata": {},
   "source": [
    "We keep the 100 neurons in the hidden layer. Optimizing the number of training iterations in range [1, 400]:"
   ]
  },
  {
   "cell_type": "code",
   "execution_count": 7,
   "metadata": {},
   "outputs": [
    {
     "name": "stderr",
     "output_type": "stream",
     "text": [
      "/home/tav/repos/PatternRecognition_FS22/lib/python3.8/site-packages/sklearn/neural_network/_multilayer_perceptron.py:692: ConvergenceWarning: Stochastic Optimizer: Maximum iterations (1) reached and the optimization hasn't converged yet.\n",
      "  warnings.warn(\n"
     ]
    },
    {
     "name": "stdout",
     "output_type": "stream",
     "text": [
      "Accuracy = 0.8965 for 1 maximal iterations with a run time of 1.08 seconds.\n"
     ]
    },
    {
     "name": "stderr",
     "output_type": "stream",
     "text": [
      "/home/tav/repos/PatternRecognition_FS22/lib/python3.8/site-packages/sklearn/neural_network/_multilayer_perceptron.py:692: ConvergenceWarning: Stochastic Optimizer: Maximum iterations (10) reached and the optimization hasn't converged yet.\n",
      "  warnings.warn(\n"
     ]
    },
    {
     "name": "stdout",
     "output_type": "stream",
     "text": [
      "Accuracy = 0.9405 for 10 maximal iterations with a run time of 6.38 seconds.\n"
     ]
    },
    {
     "name": "stderr",
     "output_type": "stream",
     "text": [
      "/home/tav/repos/PatternRecognition_FS22/lib/python3.8/site-packages/sklearn/neural_network/_multilayer_perceptron.py:692: ConvergenceWarning: Stochastic Optimizer: Maximum iterations (60) reached and the optimization hasn't converged yet.\n",
      "  warnings.warn(\n"
     ]
    },
    {
     "name": "stdout",
     "output_type": "stream",
     "text": [
      "Accuracy = 0.9634 for 60 maximal iterations with a run time of 44.4 seconds.\n",
      "Accuracy = 0.9695 for 200 maximal iterations with a run time of 45.54 seconds.\n",
      "Accuracy = 0.9614 for 400 maximal iterations with a run time of 46.08 seconds.\n"
     ]
    }
   ],
   "source": [
    "intervalTI = [1, 10, 60, 200, 400]\n",
    "for i in intervalTI:\n",
    "    if(i == 200):\n",
    "        print(f\"Accuracy = {score100} for {i} maximal iterations with a run time of {round(t100,2)} seconds.\")\n",
    "    else:\n",
    "        t = time.perf_counter()\n",
    "        clf = MLPClassifier(hidden_layer_sizes=(100,), max_iter = i)\n",
    "        clf.fit(x_train, y_train)\n",
    "        score = clf.score(x_test, y_test)\n",
    "        t = time.perf_counter() - t\n",
    "        print(f\"Accuracy = {score} for {i} maximal iterations with a run time of {round(t,2)} seconds.\")"
   ]
  },
  {
   "cell_type": "markdown",
   "metadata": {},
   "source": [
    "We get a lot of warnings, since the MLP did not converge before it reached low numbers for the maximal training iterations. But we can see, that the accuracy is increasing as the number of iterations increases and approaches an upper maximum around 0.96. Let us plot the accuracy curve depending on the number of epochs (since we use the stochastic solver ‘adam’, max_iter  determines the number of epochs (how many times each data point will be used)), to avoid a bunch of warnings, we do 10 iterations at a time and repeat this 20 times to get 200 epoches:"
   ]
  },
  {
   "cell_type": "code",
   "execution_count": 8,
   "metadata": {},
   "outputs": [
    {
     "data": {
      "image/png": "[encoded data removed]",
      "text/plain": [
       "<Figure size 432x288 with 2 Axes>"
      ]
     },
     "metadata": {
      "needs_background": "light"
     },
     "output_type": "display_data"
    }
   ],
   "source": [
    "mlp = MLPClassifier(hidden_layer_sizes=(100,), max_iter=10)\n",
    "\n",
    "N_TRAIN_SAMPLES = x_train.shape[0]\n",
    "N_EPOCHS = 20\n",
    "N_BATCH = 128\n",
    "N_CLASSES = np.unique(y_train)\n",
    "\n",
    "acc_train = []\n",
    "acc_test = []\n",
    "\n",
    "epoch = 0\n",
    "while epoch < N_EPOCHS:\n",
    "    random_perm = np.random.permutation(x_train.shape[0])\n",
    "    mini_batch_index = 0\n",
    "    while True:\n",
    "        indices = random_perm[mini_batch_index:mini_batch_index + N_BATCH]\n",
    "        mlp.partial_fit(x_train[indices], y_train[indices], classes=N_CLASSES)\n",
    "        mini_batch_index += N_BATCH\n",
    "        if mini_batch_index >= N_TRAIN_SAMPLES:\n",
    "            break\n",
    "\n",
    "    acc_train.append(mlp.score(x_train, y_train))\n",
    "    acc_test.append(mlp.score(x_test, y_test))\n",
    "    epoch += 1\n",
    "\n",
    "\n",
    "fig, ax = plt.subplots(2, sharex=True, sharey=True)\n",
    "ax[0].plot(acc_train)\n",
    "ax[0].set_title('Train')\n",
    "ax[1].plot(acc_test)\n",
    "ax[1].set_title('Test')\n",
    "fig.suptitle(\"Accuracy over epochs\", fontsize=14)\n",
    "plt.show()"
   ]
  },
  {
   "cell_type": "markdown",
   "metadata": {},
   "source": [
    "As we can see, the more iterations the smaller the error. But if we increase the epochs, we also have longer run times. So by optimizing the accuracy and taken in account the given ressources, our initial \"clf100\" was already good enough for a satisfying prediction. Last but not least the loss curve of \"clf100\" while trainig:"
   ]
  },
  {
   "cell_type": "code",
   "execution_count": 9,
   "metadata": {},
   "outputs": [
    {
     "data": {
      "image/png": "[encoded data removed]",
      "text/plain": [
       "<Figure size 432x288 with 1 Axes>"
      ]
     },
     "metadata": {
      "needs_background": "light"
     },
     "output_type": "display_data"
    }
   ],
   "source": [
    "loss_values = clf100.loss_curve_\n",
    "plt.plot(loss_values)\n",
    "plt.show()"
   ]
  }
 ],
 "metadata": {
  "interpreter": {
   "hash": "e4876ffb0edad661dde9910715b8d0b71026c06e8e8e3a754ed29e13fca540a5"
  },
  "kernelspec": {
   "display_name": "Python 3.9.9 ('init': venv)",
   "language": "python",
   "name": "python3"
  },
  "language_info": {
   "codemirror_mode": {
    "name": "ipython",
    "version": 3
   },
   "file_extension": ".py",
   "mimetype": "text/x-python",
   "name": "python",
   "nbconvert_exporter": "python",
   "pygments_lexer": "ipython3",
   "version": "3.8.10"
  },
  "orig_nbformat": 4
 },
 "nbformat": 4,
 "nbformat_minor": 2
}
