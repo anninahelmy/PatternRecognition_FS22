{
 "cells": [
  {
   "cell_type": "markdown",
   "id": "810dfffb-22a3-4332-97c8-e81d204b81c0",
   "metadata": {},
   "source": [
    "# Molecules - Task \n",
    "\n",
    "* Classify the molecules of the validation set using kNN \n",
    "* Distance: approximate Graph Edit Distance (GED)\n",
    "\n",
    "\n",
    "## Data \n",
    "\n",
    "We have .gxl files. Those are XMLs with a lot of information. \n",
    "→ Only use the chemical symbol node label and the unlabeled, undirected edges:\n",
    "``` \n",
    "    <node id=\"_1\">\n",
    "        <attr name=\"symbol\">\n",
    "            <string>C</string>\n",
    "        </attr>\n",
    "    </node>\n",
    "     <edge from=\"_1\" to=\"_2\">\n",
    "     </edge> \n",
    "```\n",
    "\n",
    "\n",
    "Real example: \n",
    "Node 1: \n",
    "\n",
    "```\n",
    "<node id=\"_1\">\n",
    "    <attr name=\"symbol\">\n",
    "        <string>O  </string>\n",
    "    </attr>\n",
    "    <attr name=\"chem\">\n",
    "        <int>2</int>\n",
    "    </attr>\n",
    "    <attr name=\"charge\">\n",
    "        <int>0</int>\n",
    "    </attr><attr name=\"x\">\n",
    "        <float>4.9921</float>\n",
    "    </attr>\n",
    "    <attr name=\"y\">\n",
    "        <float>1.6561\n",
    "        </float>\n",
    "    </attr>\n",
    "</node>\n",
    "```\n",
    "\n",
    "Edges from Node 1: \n",
    "\n",
    "```\n",
    "<edge from=\"_1\" to=\"_2\">\n",
    "    <attr name=\"valence\"> \n",
    "    <int>1</int>\n",
    "    </attr>\n",
    "</edge>\n",
    "```"
   ]
  },
  {
   "cell_type": "markdown",
   "id": "9b91610f-4d7a-498c-bfec-795d3ee78514",
   "metadata": {},
   "source": [
    "## Parse Data correctly \n"
   ]
  },
  {
   "cell_type": "code",
   "execution_count": 97,
   "id": "28a41adb-957b-4cc0-9491-32b01a9191c3",
   "metadata": {},
   "outputs": [],
   "source": [
    "import xml.etree.ElementTree as ET\n",
    "import os \n",
    "import numpy as np\n",
    "\n",
    "def createLists(filepath):\n",
    "    tree = ET.parse(filepath)\n",
    "    root = tree.getroot()\n",
    "    nodes = []\n",
    "    edges = []\n",
    "    symbols = []\n",
    "    for node in tree.findall('.//node'):\n",
    "        for key, val in node.attrib.items():\n",
    "            nodes.append(int(val.replace(\"_\", \"\")))\n",
    "    for edge in tree.findall('.//edge'):\n",
    "        edges.append([int(edge.attrib['from'].replace('_', '')), int(edge.attrib['to'].replace('_', ''))])\n",
    "    for symbol in tree.findall('.//attr'):\n",
    "        if(symbol.attrib['name'] == 'symbol'):\n",
    "            symbols.append([symbol[0].text.replace(' ', '')]) \n",
    "    return nodes, edges, symbols \n",
    "\n",
    "nodes_ =[]\n",
    "edges_ = []\n",
    "molecules = {}\n",
    "for fn in os.scandir('../Molecules/MoleculesClassification/gxl/'):\n",
    "    # Only include XML files\n",
    "    if not fn.name.endswith('.gxl'): \n",
    "        continue\n",
    "\n",
    "    molecules[fn.name.replace('.gxl', '')] = {'symbols': [], 'nodes': [], 'edges' : []}\n",
    "    molecules[fn.name.replace('.gxl', '')]['symbols'].append(createLists(fn.path)[2])\n",
    "    molecules[fn.name.replace('.gxl', '')]['nodes'].append(createLists(fn.path)[0])\n",
    "    molecules[fn.name.replace('.gxl', '')]['edges'].append(createLists(fn.path)[1])\n"
   ]
  },
  {
   "cell_type": "code",
   "execution_count": null,
   "id": "c418e0c9-98ee-46ae-8b9d-8abe082849aa",
   "metadata": {},
   "outputs": [],
   "source": []
  },
  {
   "cell_type": "markdown",
   "id": "34af23cb-9b27-4bf6-83ad-31469cdc2d6f",
   "metadata": {},
   "source": [
    "### How to read the dictionary\n",
    "In molecules all molecules with their nodes and their edges are saved. \n",
    "\n",
    "Example: Get all edges from molecule 31510.gxl: \n"
   ]
  },
  {
   "cell_type": "code",
   "execution_count": 98,
   "id": "f3bb8714-0174-4269-a46b-f31a61571a61",
   "metadata": {},
   "outputs": [
    {
     "name": "stdout",
     "output_type": "stream",
     "text": [
      "[[[1, 2], [2, 3], [1, 5], [6, 7], [7, 8], [8, 9], [2, 10], [4, 11], [3, 12], [3, 13], [5, 14], [7, 15], [15, 16], [16, 17], [8, 18], [18, 19], [19, 20], [20, 21], [20, 22], [22, 23], [23, 24], [24, 25], [25, 26], [26, 27], [27, 28], [28, 29], [29, 30], [30, 31], [31, 32], [32, 33], [33, 34], [34, 35], [4, 5], [9, 10], [6, 10], [4, 13]]]\n",
      "35\n"
     ]
    }
   ],
   "source": [
    "print(molecules['31510']['edges'])\n",
    "print(len(molecules['31510']['nodes'][0]))"
   ]
  },
  {
   "cell_type": "markdown",
   "id": "48683567-6187-4eba-a7c6-f45a101cebd8",
   "metadata": {},
   "source": [
    "## Task\n",
    "* Compute approximate GED between pairs of molecules (every molecule from valid set with every molecule from train set) with bipartite graph matching (lecture 10, slide 21)\n",
    "* Build cost matrix (Dirac)\n",
    "    * Use Dirac cost function for GED (optimize Cn and Ce) (lecture 9, slide 36)\n",
    "    * Node substitution: 2*Cn if symbols ≠, 0 otherwise Node deletion/insertion: Cn\n",
    "    * Edge deletion/insertion: Ce\n",
    "* Hungarian Algorithm: to find optimal assignment\n",
    "* Derive edit path costs from the result (distance for classification)\n",
    "\n",
    "* kNN for classification (optimize for k)\n",
    "  \n",
    "\n",
    "### 1. Calculate GED between pairs of molecules, bipartite graph matching "
   ]
  },
  {
   "cell_type": "markdown",
   "id": "eb324677-25a2-4e24-824f-09df83a09259",
   "metadata": {},
   "source": [
    "### Bipartite graph matching procedure: \n",
    "![BP_image](BP_image.jpg)\n",
    "\n",
    "#### Cost Matrix: \n",
    "1.  Upper left: substitutions (nodes plus adjacent edges) \n",
    "2.  Upper right: deletions (nodes plus adjacent edges) \n",
    "3.  Lower left: insertions (nodes plus adjacent edges)\n",
    "4.  Lower right: dummy assignments (ε → ε)"
   ]
  },
  {
   "cell_type": "code",
   "execution_count": 109,
   "id": "62e93d84-547f-4d31-9dc6-5df4cd52b26d",
   "metadata": {},
   "outputs": [
    {
     "data": {
      "text/plain": [
       "array([[0., 1., 1., ..., 0., 0., 0.],\n",
       "       [0., 0., 0., ..., 0., 0., 0.],\n",
       "       [0., 1., 1., ..., 0., 0., 0.],\n",
       "       ...,\n",
       "       [0., 0., 0., ..., 0., 0., 0.],\n",
       "       [0., 0., 0., ..., 0., 0., 0.],\n",
       "       [0., 0., 0., ..., 0., 0., 0.]])"
      ]
     },
     "execution_count": 109,
     "metadata": {},
     "output_type": "execute_result"
    }
   ],
   "source": [
    "def BP(graph1, graph2, Cn, Ce): \n",
    "    # build cost matrix according to the input graphs g1 and g2 \n",
    "    n = len(molecules[graph1]['nodes'][0])\n",
    "    m = len(molecules[graph2]['nodes'][0])\n",
    "    l = n + m\n",
    "    matrix = np.zeros((l, l))\n",
    "    \n",
    "    ##upper left: substitutions \n",
    "    for i in range(0, n):\n",
    "        for j in range(0, m):\n",
    "            if (molecules[graph1]['symbols'][0][i] == molecules[graph2]['symbols'][0][j]):\n",
    "                #print(molecules[graph1]['symbols'][0][i], molecules[graph2]['symbols'][0][j]) \n",
    "                matrix.itemset((i, j), 1)\n",
    "    return matrix\n",
    "\n",
    "BP('31510', '10071', 1, 1)\n",
    "# build cost matrix according to the input graphs g1 and g2 \n"
   ]
  },
  {
   "cell_type": "code",
   "execution_count": null,
   "id": "76399018-b2b4-418f-befa-ba5c5bece58a",
   "metadata": {},
   "outputs": [],
   "source": []
  },
  {
   "cell_type": "code",
   "execution_count": null,
   "id": "8a92b0bb-a5d1-41be-8fb6-b214f3d3355f",
   "metadata": {},
   "outputs": [],
   "source": []
  },
  {
   "cell_type": "code",
   "execution_count": null,
   "id": "bd03ab2c-4d9d-4df3-9520-8a3faf903b2e",
   "metadata": {},
   "outputs": [],
   "source": []
  },
  {
   "cell_type": "code",
   "execution_count": 103,
   "id": "3c9e2419-5f00-4717-8473-f009a139534e",
   "metadata": {},
   "outputs": [
    {
     "name": "stdout",
     "output_type": "stream",
     "text": [
      "[1, 0, 1, 1, 0]\n"
     ]
    }
   ],
   "source": [
    "# Zusatzmethod \n",
    "# evt statt a und i 0 und i verwenden \n",
    "def label(label):\n",
    "    label  = label.strip()\n",
    "    if label == 'i':\n",
    "        return 0;\n",
    "    if label == 'a':\n",
    "        return 1;\n",
    "    return -1;\n",
    "\n",
    "array = ['a', 'i', 'a','a', 'i']\n",
    "striped_array = []\n",
    "for i in array:\n",
    "    striped_array.append(label(i))\n",
    "print(striped_array) "
   ]
  },
  {
   "cell_type": "code",
   "execution_count": null,
   "id": "4ba602d0-f811-47a2-9d9f-a286bddafbf9",
   "metadata": {},
   "outputs": [],
   "source": []
  }
 ],
 "metadata": {
  "kernelspec": {
   "display_name": "Python 3 (ipykernel)",
   "language": "python",
   "name": "python3"
  },
  "language_info": {
   "codemirror_mode": {
    "name": "ipython",
    "version": 3
   },
   "file_extension": ".py",
   "mimetype": "text/x-python",
   "name": "python",
   "nbconvert_exporter": "python",
   "pygments_lexer": "ipython3",
   "version": "3.9.7"
  }
 },
 "nbformat": 4,
 "nbformat_minor": 5
}
