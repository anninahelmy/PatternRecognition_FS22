{
 "cells": [
  {
   "cell_type": "markdown",
   "id": "810dfffb-22a3-4332-97c8-e81d204b81c0",
   "metadata": {},
   "source": [
    "# Molecules - Task \n",
    "\n",
    "* Classify the molecules of the validation set using kNN \n",
    "* Distance: approximate Graph Edit Distance (GED)\n",
    "\n",
    "\n",
    "## Data \n",
    "\n",
    "We have .gxl files. Those are XMLs with a lot of information. \n",
    "→ Only use the chemical symbol node label and the unlabeled, undirected edges:\n",
    "``` \n",
    "    <node id=\"_1\">\n",
    "        <attr name=\"symbol\">\n",
    "            <string>C</string>\n",
    "        </attr>\n",
    "    </node>\n",
    "     <edge from=\"_1\" to=\"_2\">\n",
    "     </edge> \n",
    "```\n",
    "\n",
    "\n",
    "Real example: \n",
    "Node 1: \n",
    "\n",
    "```\n",
    "<node id=\"_1\">\n",
    "    <attr name=\"symbol\">\n",
    "        <string>O  </string>\n",
    "    </attr>\n",
    "    <attr name=\"chem\">\n",
    "        <int>2</int>\n",
    "    </attr>\n",
    "    <attr name=\"charge\">\n",
    "        <int>0</int>\n",
    "    </attr><attr name=\"x\">\n",
    "        <float>4.9921</float>\n",
    "    </attr>\n",
    "    <attr name=\"y\">\n",
    "        <float>1.6561\n",
    "        </float>\n",
    "    </attr>\n",
    "</node>\n",
    "```\n",
    "\n",
    "Edges from Node 1: \n",
    "\n",
    "```\n",
    "<edge from=\"_1\" to=\"_2\">\n",
    "    <attr name=\"valence\"> \n",
    "    <int>1</int>\n",
    "    </attr>\n",
    "</edge>\n",
    "```"
   ]
  },
  {
   "cell_type": "markdown",
   "id": "9b91610f-4d7a-498c-bfec-795d3ee78514",
   "metadata": {},
   "source": [
    "## Parse Data correctly \n"
   ]
  },
  {
   "cell_type": "code",
   "execution_count": 32,
   "id": "28a41adb-957b-4cc0-9491-32b01a9191c3",
   "metadata": {},
   "outputs": [],
   "source": [
    "import xml.etree.ElementTree as ET\n",
    "import os \n",
    "\n",
    "def createLists(filepath):\n",
    "    tree = ET.parse(filepath)\n",
    "    root = tree.getroot()\n",
    "    nodes = []\n",
    "    edges = []\n",
    "    for node in tree.findall('.//node'):\n",
    "        for key, val in node.attrib.items():\n",
    "            nodes.append(int(val.replace(\"_\", \"\")))\n",
    "    for edge in tree.findall('.//edge'):\n",
    "        edges.append([int(edge.attrib['from'].replace('_', '')), int(edge.attrib['to'].replace('_', ''))])\n",
    "    return nodes, edges\n",
    "\n",
    "nodes_ =[]\n",
    "edges_ = []\n",
    "molecules = {}\n",
    "for fn in os.scandir('../Molecules/MoleculesClassification/gxl/'):\n",
    "    # Only include XML files\n",
    "    if not fn.name.endswith('.gxl'): \n",
    "        continue\n",
    "\n",
    "    molecules[fn.name] = {'nodes': [], 'edges' : []}\n",
    "    molecules[fn.name]['nodes'].append(createLists(fn.path)[0])\n",
    "    molecules[fn.name]['edges'].append(createLists(fn.path)[1])\n"
   ]
  },
  {
   "cell_type": "markdown",
   "id": "34af23cb-9b27-4bf6-83ad-31469cdc2d6f",
   "metadata": {},
   "source": [
    "### How to read the dictionary\n",
    "In molecules all molecules with their nodes and their edges are saved. \n",
    "\n",
    "Example: Get all edges from molecule 31510.gxl: \n"
   ]
  },
  {
   "cell_type": "code",
   "execution_count": 33,
   "id": "f3bb8714-0174-4269-a46b-f31a61571a61",
   "metadata": {},
   "outputs": [
    {
     "name": "stdout",
     "output_type": "stream",
     "text": [
      "[[[1, 2], [2, 3], [1, 5], [6, 7], [7, 8], [8, 9], [2, 10], [4, 11], [3, 12], [3, 13], [5, 14], [7, 15], [15, 16], [16, 17], [8, 18], [18, 19], [19, 20], [20, 21], [20, 22], [22, 23], [23, 24], [24, 25], [25, 26], [26, 27], [27, 28], [28, 29], [29, 30], [30, 31], [31, 32], [32, 33], [33, 34], [34, 35], [4, 5], [9, 10], [6, 10], [4, 13]]]\n"
     ]
    }
   ],
   "source": [
    "print(molecules['31510.gxl']['edges'])"
   ]
  },
  {
   "cell_type": "code",
   "execution_count": null,
   "id": "bf4d96f1-2540-4281-b135-c61d97789123",
   "metadata": {},
   "outputs": [],
   "source": []
  }
 ],
 "metadata": {
  "kernelspec": {
   "display_name": "Python 3 (ipykernel)",
   "language": "python",
   "name": "python3"
  },
  "language_info": {
   "codemirror_mode": {
    "name": "ipython",
    "version": 3
   },
   "file_extension": ".py",
   "mimetype": "text/x-python",
   "name": "python",
   "nbconvert_exporter": "python",
   "pygments_lexer": "ipython3",
   "version": "3.9.7"
  }
 },
 "nbformat": 4,
 "nbformat_minor": 5
}
