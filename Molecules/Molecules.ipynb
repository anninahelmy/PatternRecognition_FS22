{
 "cells": [
  {
   "cell_type": "markdown",
   "id": "810dfffb-22a3-4332-97c8-e81d204b81c0",
   "metadata": {},
   "source": [
    "# Molecules - Task \n",
    "\n",
    "* Classify the molecules of the validation set using kNN \n",
    "* Distance: approximate Graph Edit Distance (GED)\n",
    "\n",
    "\n",
    "## Data \n",
    "\n",
    "We have .gxl files. Those are XMLs with a lot of information. \n",
    "→ Only use the chemical symbol node label and the unlabeled, undirected edges:\n",
    "``` \n",
    "    <node id=\"_1\">\n",
    "        <attr name=\"symbol\">\n",
    "            <string>C</string>\n",
    "        </attr>\n",
    "    </node>\n",
    "     <edge from=\"_1\" to=\"_2\">\n",
    "     </edge> \n",
    "```\n",
    "\n",
    "\n",
    "Real example: \n",
    "Node 1: \n",
    "\n",
    "```\n",
    "<node id=\"_1\">\n",
    "    <attr name=\"symbol\">\n",
    "        <string>O  </string>\n",
    "    </attr>\n",
    "    <attr name=\"chem\">\n",
    "        <int>2</int>\n",
    "    </attr>\n",
    "    <attr name=\"charge\">\n",
    "        <int>0</int>\n",
    "    </attr><attr name=\"x\">\n",
    "        <float>4.9921</float>\n",
    "    </attr>\n",
    "    <attr name=\"y\">\n",
    "        <float>1.6561\n",
    "        </float>\n",
    "    </attr>\n",
    "</node>\n",
    "```\n",
    "\n",
    "Edges from Node 1: \n",
    "\n",
    "```\n",
    "<edge from=\"_1\" to=\"_2\">\n",
    "    <attr name=\"valence\"> \n",
    "    <int>1</int>\n",
    "    </attr>\n",
    "</edge>\n",
    "```"
   ]
  },
  {
   "cell_type": "markdown",
   "id": "9b91610f-4d7a-498c-bfec-795d3ee78514",
   "metadata": {},
   "source": [
    "## Parse Data correctly \n"
   ]
  },
  {
   "cell_type": "code",
   "execution_count": 6,
   "id": "28a41adb-957b-4cc0-9491-32b01a9191c3",
   "metadata": {},
   "outputs": [
    {
     "name": "stdout",
     "output_type": "stream",
     "text": [
      "defaultdict(<class 'list'>, {'nodes': [1, 2, 3, 4, 5, 6, 7, 8, 9, 10, 11, 12], 'edges': [[1, 2], [2, 3], [3, 4], [1, 5], [5, 6], [6, 7], [7, 8], [8, 9], [8, 10], [7, 11], [4, 12], [4, 5], [11, 12]], 'symbols': [['N'], ['C'], ['N'], ['C'], ['C'], ['C'], ['C'], ['C'], ['O'], ['O'], ['N'], ['C']], 'adj_edges': [2, 2, 2, 3, 3, 2, 3, 3, 1, 1, 2, 2]})\n",
      "defaultdict(<class 'list'>, {'nodes': [1, 2, 3, 4, 5, 6, 7, 8, 9, 10], 'edges': [[1, 2], [1, 3], [3, 4], [3, 5], [4, 6], [4, 7], [5, 8], [5, 9], [7, 10], [9, 10]], 'symbols': [['N'], ['O'], ['C'], ['C'], ['C'], ['C'], ['C'], ['C'], ['C'], ['C']], 'adj_edges': [2, 1, 3, 3, 3, 1, 2, 1, 2, 2]})\n"
     ]
    }
   ],
   "source": [
    "import xml.etree.ElementTree as ET\n",
    "import os \n",
    "import numpy as np\n",
    "from collections import defaultdict\n",
    "import matplotlib.pyplot as plt\n",
    "\n",
    "def create_graph(filepath):\n",
    "    tree = ET.parse(filepath)\n",
    "    root = tree.getroot()\n",
    "    #molecules = {'symbols':[], 'nodes':[], 'edges':[], 'adjacent_edges': []}\n",
    "    molecules = defaultdict(list)\n",
    "  \n",
    "    for node in tree.findall('.//node'):\n",
    "        for key, val in node.attrib.items():\n",
    "            molecules['nodes'].append(int(val.replace(\"_\", \"\")))\n",
    "    for edge in tree.findall('.//edge'):\n",
    "        molecules['edges'].append([int(edge.attrib['from'].replace('_', '')), int(edge.attrib['to'].replace('_', ''))])\n",
    "    for symbol in tree.findall('.//attr'):\n",
    "        if(symbol.attrib['name'] == 'symbol'):\n",
    "            molecules['symbols'].append([symbol[0].text.replace(' ', '')])\n",
    "    for node in molecules['nodes']:\n",
    "        counter = 0\n",
    "        for edge in molecules['edges']:\n",
    "            if node in edge:\n",
    "                counter += 1\n",
    "        molecules['adj_edges'].append(counter)\n",
    "    return molecules\n",
    "\n",
    "\n",
    "\n",
    "graphs = []\n",
    "for fn in os.scandir('../Molecules/MoleculesClassification/gxl/'):\n",
    "    # Only include XML files\n",
    "    if not fn.name.endswith('.gxl'): \n",
    "        continue\n",
    "    graphs.append(create_graph(fn))\n",
    "\n",
    "print(graphs[3])\n",
    "print(graphs[1])"
   ]
  },
  {
   "cell_type": "code",
   "execution_count": 7,
   "id": "8a36099b-39d1-477c-bf6f-6766a76a73b6",
   "metadata": {},
   "outputs": [
    {
     "data": {
      "text/plain": [
       "defaultdict(list,\n",
       "            {'nodes': [1,\n",
       "              2,\n",
       "              3,\n",
       "              4,\n",
       "              5,\n",
       "              6,\n",
       "              7,\n",
       "              8,\n",
       "              9,\n",
       "              10,\n",
       "              11,\n",
       "              12,\n",
       "              13,\n",
       "              14,\n",
       "              15,\n",
       "              16,\n",
       "              17,\n",
       "              18],\n",
       "             'edges': [[1, 2],\n",
       "              [1, 6],\n",
       "              [2, 3],\n",
       "              [3, 4],\n",
       "              [4, 5],\n",
       "              [5, 7],\n",
       "              [5, 6],\n",
       "              [6, 18],\n",
       "              [7, 8],\n",
       "              [7, 10],\n",
       "              [9, 11],\n",
       "              [9, 12],\n",
       "              [9, 10],\n",
       "              [11, 15],\n",
       "              [11, 17],\n",
       "              [12, 13],\n",
       "              [12, 14],\n",
       "              [15, 16]],\n",
       "             'symbols': [['C'],\n",
       "              ['C'],\n",
       "              ['C'],\n",
       "              ['C'],\n",
       "              ['C'],\n",
       "              ['C'],\n",
       "              ['C'],\n",
       "              ['O'],\n",
       "              ['C'],\n",
       "              ['N'],\n",
       "              ['C'],\n",
       "              ['C'],\n",
       "              ['O'],\n",
       "              ['O'],\n",
       "              ['C'],\n",
       "              ['C'],\n",
       "              ['C'],\n",
       "              ['S']],\n",
       "             'adj_edges': [2,\n",
       "              2,\n",
       "              2,\n",
       "              2,\n",
       "              3,\n",
       "              3,\n",
       "              3,\n",
       "              1,\n",
       "              3,\n",
       "              2,\n",
       "              3,\n",
       "              3,\n",
       "              1,\n",
       "              1,\n",
       "              2,\n",
       "              1,\n",
       "              1,\n",
       "              1]})"
      ]
     },
     "execution_count": 7,
     "metadata": {},
     "output_type": "execute_result"
    }
   ],
   "source": [
    "import random\n",
    "import math\n",
    "\n",
    "def load_set(set_name, path):\n",
    "    graphs, labels = [], []\n",
    "    file=open(path+set_name,\"r\")\n",
    "    lines = file.readlines()\n",
    "    for line in lines:\n",
    "        file_name = line.split(\" \")[0]\n",
    "        label = line.split(\" \")[1].strip()\n",
    "        graph_path = path + 'gxl' + \"/\" + file_name + \".gxl\"\n",
    "        graphs.append(create_graph(graph_path))\n",
    "        labels.append(label)\n",
    "    return graphs, labels    \n",
    "        \n",
    "graphs_train, labels_train = load_set(\"train.txt\", \"../Molecules/MoleculesClassification/\")\n",
    "graphs_valid, labels_valid = load_set(\"valid.txt\", \"../Molecules/MoleculesClassification/\")\n",
    "\n",
    "def split_data(graphs, labels):\n",
    "    indices = list(range(len(graphs)))\n",
    "    random.shuffle(indices)\n",
    "    x = math.floor(0.7*len(graphs))\n",
    "    split_train = indices[:x]\n",
    "    split_test = indices[x:]\n",
    "    train_graphs = [graphs[i] for i in split_train]\n",
    "    train_labels = [labels[i] for i in split_train]\n",
    "    test_graphs = [graphs[i] for i in split_test]\n",
    "    test_labels = [labels[i] for i in split_test]     \n",
    "    return train_graphs, train_labels, test_graphs, test_labels\n",
    "\n",
    "train_graphs, train_labels, test_graphs, test_labels = split_data(graphs_train, labels_train)\n",
    "train_graphs[0]"
   ]
  },
  {
   "cell_type": "markdown",
   "id": "48683567-6187-4eba-a7c6-f45a101cebd8",
   "metadata": {},
   "source": [
    "## Task\n",
    "* Compute approximate GED between pairs of molecules (every molecule from valid set with every molecule from train set) with bipartite graph matching (lecture 10, slide 21)\n",
    "* Build cost matrix (Dirac)\n",
    "    * Use Dirac cost function for GED (optimize Cn and Ce) (lecture 9, slide 36)\n",
    "    * Node substitution: 2*Cn if symbols ≠, 0 otherwise Node deletion/insertion: Cn\n",
    "    * Edge deletion/insertion: Ce\n",
    "* Hungarian Algorithm: to find optimal assignment\n",
    "* Derive edit path costs from the result (distance for classification)\n",
    "\n",
    "* kNN for classification (optimize for k)\n",
    "  \n",
    "\n",
    "### 1. Calculate GED between pairs of molecules, bipartite graph matching "
   ]
  },
  {
   "cell_type": "markdown",
   "id": "eb324677-25a2-4e24-824f-09df83a09259",
   "metadata": {},
   "source": [
    "### Bipartite graph matching procedure: \n",
    "![BP_image](BP_image.jpg)\n",
    "\n",
    "#### Cost Matrix: \n",
    "1.  Upper left: substitutions (nodes plus adjacent edges) \n",
    "2.  Upper right: deletions (nodes plus adjacent edges) \n",
    "3.  Lower left: insertions (nodes plus adjacent edges)\n",
    "4.  Lower right: dummy assignments (ε → ε)"
   ]
  },
  {
   "cell_type": "code",
   "execution_count": 8,
   "id": "62e93d84-547f-4d31-9dc6-5df4cd52b26d",
   "metadata": {},
   "outputs": [
    {
     "data": {
      "text/plain": [
       "array([[ 0.,  0.,  0.,  0.,  0.,  0.,  0.,  0.,  3.,  3.,  2.,  3.,  3.,\n",
       "        inf, inf, inf, inf, inf, inf, inf, inf, inf, inf, inf, inf, inf,\n",
       "        inf, inf, inf, inf],\n",
       "       [ 0.,  0.,  0.,  0.,  0.,  0.,  0.,  0.,  3.,  3.,  2.,  3.,  0.,\n",
       "         3., inf, inf, inf, inf, inf, inf, inf, inf, inf, inf, inf, inf,\n",
       "        inf, inf, inf, inf],\n",
       "       [ 0.,  0.,  0.,  0.,  0.,  0.,  0.,  0.,  3.,  3.,  2.,  3.,  0.,\n",
       "        inf,  3., inf, inf, inf, inf, inf, inf, inf, inf, inf, inf, inf,\n",
       "        inf, inf, inf, inf],\n",
       "       [ 0.,  0.,  0.,  0.,  0.,  0.,  0.,  0.,  3.,  3.,  2.,  3.,  0.,\n",
       "        inf, inf,  3., inf, inf, inf, inf, inf, inf, inf, inf, inf, inf,\n",
       "        inf, inf, inf, inf],\n",
       "       [ 0.,  0.,  0.,  0.,  0.,  0.,  0.,  0.,  4.,  4.,  3.,  4.,  0.,\n",
       "        inf, inf, inf,  4., inf, inf, inf, inf, inf, inf, inf, inf, inf,\n",
       "        inf, inf, inf, inf],\n",
       "       [ 0.,  0.,  0.,  0.,  0.,  0.,  0.,  0.,  4.,  4.,  3.,  4.,  0.,\n",
       "        inf, inf, inf, inf,  4., inf, inf, inf, inf, inf, inf, inf, inf,\n",
       "        inf, inf, inf, inf],\n",
       "       [ 0.,  0.,  0.,  0.,  0.,  0.,  0.,  0.,  4.,  4.,  3.,  4.,  0.,\n",
       "        inf, inf, inf, inf, inf,  4., inf, inf, inf, inf, inf, inf, inf,\n",
       "        inf, inf, inf, inf],\n",
       "       [ 5.,  3.,  4.,  4.,  4.,  3.,  2.,  2.,  0.,  0.,  3.,  2.,  0.,\n",
       "        inf, inf, inf, inf, inf, inf,  2., inf, inf, inf, inf, inf, inf,\n",
       "        inf, inf, inf, inf],\n",
       "       [ 0.,  0.,  0.,  0.,  0.,  0.,  0.,  0.,  4.,  4.,  3.,  4.,  0.,\n",
       "        inf, inf, inf, inf, inf, inf, inf,  4., inf, inf, inf, inf, inf,\n",
       "        inf, inf, inf, inf],\n",
       "       [ 4.,  2.,  3.,  3.,  3.,  2.,  3.,  3.,  3.,  3.,  0.,  0.,  0.,\n",
       "        inf, inf, inf, inf, inf, inf, inf, inf,  3., inf, inf, inf, inf,\n",
       "        inf, inf, inf, inf],\n",
       "       [ 0.,  0.,  0.,  0.,  0.,  0.,  0.,  0.,  4.,  4.,  3.,  4.,  0.,\n",
       "        inf, inf, inf, inf, inf, inf, inf, inf, inf,  4., inf, inf, inf,\n",
       "        inf, inf, inf, inf],\n",
       "       [ 0.,  0.,  0.,  0.,  0.,  0.,  0.,  0.,  4.,  4.,  3.,  4.,  0.,\n",
       "        inf, inf, inf, inf, inf, inf, inf, inf, inf, inf,  4., inf, inf,\n",
       "        inf, inf, inf, inf],\n",
       "       [ 5.,  3.,  4.,  4.,  4.,  3.,  2.,  2.,  0.,  0.,  3.,  2.,  0.,\n",
       "        inf, inf, inf, inf, inf, inf, inf, inf, inf, inf, inf,  2., inf,\n",
       "        inf, inf, inf, inf],\n",
       "       [ 5.,  3.,  4.,  4.,  4.,  3.,  2.,  2.,  0.,  0.,  3.,  2.,  0.,\n",
       "        inf, inf, inf, inf, inf, inf, inf, inf, inf, inf, inf, inf,  2.,\n",
       "        inf, inf, inf, inf],\n",
       "       [ 0.,  0.,  0.,  0.,  0.,  0.,  0.,  0.,  3.,  3.,  2.,  3.,  0.,\n",
       "        inf, inf, inf, inf, inf, inf, inf, inf, inf, inf, inf, inf, inf,\n",
       "         3., inf, inf, inf],\n",
       "       [ 0.,  0.,  0.,  0.,  0.,  0.,  0.,  0.,  2.,  2.,  3.,  2.,  0.,\n",
       "        inf, inf, inf, inf, inf, inf, inf, inf, inf, inf, inf, inf, inf,\n",
       "        inf,  2., inf, inf],\n",
       "       [ 0.,  0.,  0.,  0.,  0.,  0.,  0.,  0.,  2.,  2.,  3.,  2.,  0.,\n",
       "        inf, inf, inf, inf, inf, inf, inf, inf, inf, inf, inf, inf, inf,\n",
       "        inf, inf,  2., inf],\n",
       "       [ 5.,  3.,  4.,  4.,  4.,  3.,  2.,  2.,  2.,  2.,  3.,  2.,  0.,\n",
       "        inf, inf, inf, inf, inf, inf, inf, inf, inf, inf, inf, inf, inf,\n",
       "        inf, inf, inf,  2.],\n",
       "       [ 5.,  0.,  0.,  0.,  0.,  0.,  0.,  0.,  0.,  0.,  0.,  0.,  0.,\n",
       "         0.,  0.,  0.,  0.,  0.,  0.,  0.,  0.,  0.,  0.,  0.,  0.,  0.,\n",
       "         0.,  0.,  0.,  0.],\n",
       "       [inf,  3., inf, inf, inf, inf, inf, inf, inf, inf, inf, inf,  0.,\n",
       "         0.,  0.,  0.,  0.,  0.,  0.,  0.,  0.,  0.,  0.,  0.,  0.,  0.,\n",
       "         0.,  0.,  0.,  0.],\n",
       "       [inf, inf,  4., inf, inf, inf, inf, inf, inf, inf, inf, inf,  0.,\n",
       "         0.,  0.,  0.,  0.,  0.,  0.,  0.,  0.,  0.,  0.,  0.,  0.,  0.,\n",
       "         0.,  0.,  0.,  0.],\n",
       "       [inf, inf, inf,  4., inf, inf, inf, inf, inf, inf, inf, inf,  0.,\n",
       "         0.,  0.,  0.,  0.,  0.,  0.,  0.,  0.,  0.,  0.,  0.,  0.,  0.,\n",
       "         0.,  0.,  0.,  0.],\n",
       "       [inf, inf, inf, inf,  4., inf, inf, inf, inf, inf, inf, inf,  0.,\n",
       "         0.,  0.,  0.,  0.,  0.,  0.,  0.,  0.,  0.,  0.,  0.,  0.,  0.,\n",
       "         0.,  0.,  0.,  0.],\n",
       "       [inf, inf, inf, inf, inf,  3., inf, inf, inf, inf, inf, inf,  0.,\n",
       "         0.,  0.,  0.,  0.,  0.,  0.,  0.,  0.,  0.,  0.,  0.,  0.,  0.,\n",
       "         0.,  0.,  0.,  0.],\n",
       "       [inf, inf, inf, inf, inf, inf,  2., inf, inf, inf, inf, inf,  0.,\n",
       "         0.,  0.,  0.,  0.,  0.,  0.,  0.,  0.,  0.,  0.,  0.,  0.,  0.,\n",
       "         0.,  0.,  0.,  0.],\n",
       "       [inf, inf, inf, inf, inf, inf, inf,  2., inf, inf, inf, inf,  0.,\n",
       "         0.,  0.,  0.,  0.,  0.,  0.,  0.,  0.,  0.,  0.,  0.,  0.,  0.,\n",
       "         0.,  0.,  0.,  0.],\n",
       "       [inf, inf, inf, inf, inf, inf, inf, inf,  2., inf, inf, inf,  0.,\n",
       "         0.,  0.,  0.,  0.,  0.,  0.,  0.,  0.,  0.,  0.,  0.,  0.,  0.,\n",
       "         0.,  0.,  0.,  0.],\n",
       "       [inf, inf, inf, inf, inf, inf, inf, inf, inf,  2., inf, inf,  0.,\n",
       "         0.,  0.,  0.,  0.,  0.,  0.,  0.,  0.,  0.,  0.,  0.,  0.,  0.,\n",
       "         0.,  0.,  0.,  0.],\n",
       "       [inf, inf, inf, inf, inf, inf, inf, inf, inf, inf,  3., inf,  0.,\n",
       "         0.,  0.,  0.,  0.,  0.,  0.,  0.,  0.,  0.,  0.,  0.,  0.,  0.,\n",
       "         0.,  0.,  0.,  0.],\n",
       "       [inf, inf, inf, inf, inf, inf, inf, inf, inf, inf, inf,  2.,  0.,\n",
       "         0.,  0.,  0.,  0.,  0.,  0.,  0.,  0.,  0.,  0.,  0.,  0.,  0.,\n",
       "         0.,  0.,  0.,  0.]])"
      ]
     },
     "execution_count": 8,
     "metadata": {},
     "output_type": "execute_result"
    }
   ],
   "source": [
    "#input: two dicts from graphs list \n",
    "def cost_matrix(graph1, graph2, Cn, Ce): \n",
    "    n = len(graph1['nodes'])\n",
    "    m = len(graph2['nodes'])\n",
    "    l = n+m\n",
    "    cost_matrix = np.zeros((l,l))\n",
    "    #upper left, substitutions \n",
    "    for i in range(0, n):\n",
    "        for j in range(0, m):\n",
    "            if graph1['symbols'][i] != graph2['symbols'][j]:\n",
    "                #print(molecules[graph1]['symbols'][0][i], molecules[graph2]['symbols'][0][j]) \n",
    "                difference_edges = abs(graph1['adj_edges'][i]- graph2['adj_edges'][j])\n",
    "                cost_matrix.itemset((i, j), 2*Cn + difference_edges*Ce)\n",
    "    #upper right: deletions; here one wants to compute the costs of deleting one node + edge (base graph) \n",
    "    for i in range(0,n):\n",
    "        for j in range(m+1,m+n):\n",
    "            cost_matrix.itemset((i, j), np.Inf)\n",
    "            cost_del = (Cn + graph1['adj_edges'][i]*Ce)\n",
    "            cost_matrix.itemset((i, m+i), cost_del)\n",
    "   \n",
    "    #lower left: insertions -- here one wants to compute the cost to insert a node from graph2 into graph1 \n",
    "    for i in range(n+1, m+n):\n",
    "        for j in range(0, m):\n",
    "            cost_matrix.itemset((i, j), np.Inf)\n",
    "            cost_ins = (Cn + graph2['adj_edges'][j]*Ce)\n",
    "            cost_matrix.itemset((n+j, j), cost_ins)\n",
    "    return cost_matrix\n",
    "\n",
    "cost_matrix(train_graphs[0], train_graphs[1], 1, 1)\n"
   ]
  },
  {
   "cell_type": "code",
   "execution_count": 21,
   "id": "16defcef-54fe-4aa6-b458-6f587531e79b",
   "metadata": {},
   "outputs": [
    {
     "name": "stdout",
     "output_type": "stream",
     "text": [
      "[[ 39.  19.  14. ...  16. 102.  11.]\n",
      " [ 10.   2.  10. ...   9.  68.  10.]\n",
      " [ 18.   2.   4. ...   2.  76.   2.]\n",
      " ...\n",
      " [ 21.   6.   6. ...   6.  84.   6.]\n",
      " [ 12.   2.  11. ...  10.  71.  11.]\n",
      " [ 25.  10.   9. ...   9.  90.   8.]]\n"
     ]
    },
    {
     "data": {
      "image/png": "[encoded data removed]",
      "text/plain": [
       "<Figure size 432x288 with 1 Axes>"
      ]
     },
     "metadata": {
      "needs_background": "light"
     },
     "output_type": "display_data"
    }
   ],
   "source": [
    "from scipy.optimize import linear_sum_assignment\n",
    "def graph_edit_distance(graph1, graph2, Cn, Ce):\n",
    "    c = cost_matrix(graph1, graph2, Cn, Ce)\n",
    "    row_ind, col_ind = linear_sum_assignment(c)\n",
    "    return c[row_ind, col_ind].sum()\n",
    "\n",
    "graph_edit_distance(train_graphs[0], train_graphs[1], 1,1)\n",
    "\n",
    "def distance_matrix(test, train, Cn, Ce):\n",
    "    distance_matrix = np.zeros((len(test), len(train)))\n",
    "    for index_test, graph_test in enumerate(test):\n",
    "        for index_train, graph_train in enumerate(train):\n",
    "            distance_matrix.itemset((index_test,index_train), graph_edit_distance(graph_test, graph_train, Cn, Ce))\n",
    "            \n",
    "    return distance_matrix\n",
    "\n",
    "dist = distance_matrix(test_graphs, train_graphs, 1, 1)\n",
    "print(dist)\n",
    "\n",
    "def knn(dist_mat, k, test_labels, train_labels):\n",
    "    correct = 0\n",
    "    for index, row in enumerate(dist_mat):\n",
    "        smallest_k_values = np.argsort(row)[:k]\n",
    "        train_labels_k = [train_labels[i] for i in smallest_k_values]\n",
    "        count_a = train_labels_k.count('a')\n",
    "        count_i = k - count_a\n",
    "        if(count_a >= count_i):\n",
    "            predicted_label = 'a'\n",
    "        else:\n",
    "            predicted_label = 'i'\n",
    "        correct += int(predicted_label == test_labels[index])\n",
    "    return correct/len(test_labels)\n",
    "\n",
    "knn(dist, 5, test_labels, train_labels) \n",
    "\n",
    "\n",
    "accuracies = []\n",
    "ks = range(1, 30)\n",
    "for k in ks:\n",
    "    accuracy = knn(dist, k, test_labels, train_labels)\n",
    "    accuracies.append(accuracy)\n",
    "\n",
    "fig, ax = plt.subplots()\n",
    "ax.plot(ks, accuracies)\n",
    "ax.set(xlabel=\"k\",\n",
    "       ylabel=\"Accuracy\",\n",
    "       title=\"Performance of knn\")\n",
    "plt.show()\n",
    "\n"
   ]
  },
  {
   "cell_type": "markdown",
   "id": "6f9c980a-c2d5-4928-a0c1-71ebe98d65d2",
   "metadata": {},
   "source": [
    "## Linear Sum Assignment \n"
   ]
  },
  {
   "cell_type": "code",
   "execution_count": 14,
   "id": "bd03ab2c-4d9d-4df3-9520-8a3faf903b2e",
   "metadata": {},
   "outputs": [
    {
     "name": "stdout",
     "output_type": "stream",
     "text": [
      "[0.9866666666666667, 0.9866666666666667, 1.0, 1.0, 1.0, 1.0, 1.0, 1.0, 0.9866666666666667, 0.9866666666666667, 0.9866666666666667, 0.9866666666666667, 0.9866666666666667, 0.9866666666666667, 0.9866666666666667, 0.9866666666666667, 0.9866666666666667, 0.9866666666666667, 0.9866666666666667, 0.9866666666666667, 0.9866666666666667, 0.9866666666666667, 0.9866666666666667, 0.9866666666666667, 0.9866666666666667, 0.9866666666666667, 0.9866666666666667, 0.9866666666666667, 0.9866666666666667]\n",
      "[2, 3, 4, 5, 6, 7]\n"
     ]
    }
   ],
   "source": [
    "print(accuracies)\n",
    "\n",
    "indices = [index for index, item in enumerate(accuracies) if item == max(accuracies)]\n",
    "print(indices)\n",
    "\n",
    "# for k = 2, 3, 4,5 , 6, 7 we have an accuracy of 100% "
   ]
  },
  {
   "cell_type": "code",
   "execution_count": 22,
   "id": "4ba602d0-f811-47a2-9d9f-a286bddafbf9",
   "metadata": {},
   "outputs": [],
   "source": [
    "dist_ = distance_matrix(graphs_valid, graphs_train, 1, 1)"
   ]
  },
  {
   "cell_type": "code",
   "execution_count": 24,
   "id": "8b243002-c787-490a-a3df-d8017e1a354d",
   "metadata": {},
   "outputs": [
    {
     "data": {
      "text/plain": [
       "(250, 250)"
      ]
     },
     "execution_count": 24,
     "metadata": {},
     "output_type": "execute_result"
    }
   ],
   "source": [
    "dist_"
   ]
  },
  {
   "cell_type": "code",
   "execution_count": 26,
   "id": "a7d29ac6-dd5d-4c89-9d62-80d573ef0cac",
   "metadata": {},
   "outputs": [
    {
     "data": {
      "image/png": "[encoded data removed]",
      "text/plain": [
       "<Figure size 432x288 with 1 Axes>"
      ]
     },
     "metadata": {
      "needs_background": "light"
     },
     "output_type": "display_data"
    }
   ],
   "source": [
    "\n",
    "accuracies = []\n",
    "ks = range(1, 30)\n",
    "for k in ks:\n",
    "    accuracy = knn(dist_, k, labels_valid, labels_train)\n",
    "    accuracies.append(accuracy)\n",
    "\n",
    "fig, ax = plt.subplots()\n",
    "ax.plot(ks, accuracies)\n",
    "ax.set(xlabel=\"k\",\n",
    "       ylabel=\"Accuracy\",\n",
    "       title=\"Performance of knn\")\n",
    "plt.show()\n",
    "\n"
   ]
  },
  {
   "cell_type": "code",
   "execution_count": 27,
   "id": "70fbc12f-6dbf-497b-b53b-95ef2f6c8387",
   "metadata": {},
   "outputs": [
    {
     "name": "stdout",
     "output_type": "stream",
     "text": [
      "[0.988, 0.98, 0.996, 0.996, 0.992, 0.992, 0.992, 0.992, 0.992, 0.992, 0.988, 0.988, 0.988, 0.988, 0.988, 0.988, 0.988, 0.988, 0.988, 0.988, 0.988, 0.988, 0.988, 0.988, 0.988, 0.988, 0.988, 0.988, 0.988]\n",
      "[2, 3]\n"
     ]
    }
   ],
   "source": [
    "print(accuracies)\n",
    "\n",
    "indices = [index for index, item in enumerate(accuracies) if item == max(accuracies)]\n",
    "print(indices)"
   ]
  },
  {
   "cell_type": "code",
   "execution_count": 32,
   "id": "ca4f3295-7f1f-4392-b18d-e1192b1424c9",
   "metadata": {},
   "outputs": [
    {
     "name": "stdout",
     "output_type": "stream",
     "text": [
      "Accuracy on valid with k = 3:  0.996\n"
     ]
    }
   ],
   "source": [
    "accuracy = knn(dist_, 3,labels_valid, labels_train)\n",
    "print(\"Accuracy on valid with k = 3: \", accuracy)"
   ]
  },
  {
   "cell_type": "code",
   "execution_count": null,
   "id": "f9528cdc-9eb3-4759-814f-a07af5dfcad5",
   "metadata": {},
   "outputs": [],
   "source": []
  }
 ],
 "metadata": {
  "kernelspec": {
   "display_name": "Python 3 (ipykernel)",
   "language": "python",
   "name": "python3"
  },
  "language_info": {
   "codemirror_mode": {
    "name": "ipython",
    "version": 3
   },
   "file_extension": ".py",
   "mimetype": "text/x-python",
   "name": "python",
   "nbconvert_exporter": "python",
   "pygments_lexer": "ipython3",
   "version": "3.9.7"
  }
 },
 "nbformat": 4,
 "nbformat_minor": 5
}
