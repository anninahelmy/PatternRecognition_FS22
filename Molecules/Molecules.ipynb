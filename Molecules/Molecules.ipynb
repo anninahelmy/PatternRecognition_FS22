{
 "cells": [
  {
   "cell_type": "markdown",
   "id": "810dfffb-22a3-4332-97c8-e81d204b81c0",
   "metadata": {},
   "source": [
    "# Molecules - Task \n",
    "\n",
    "* Classify the molecules of the validation set using kNN \n",
    "* Distance: approximate Graph Edit Distance (GED)\n",
    "\n",
    "\n",
    "## Data \n",
    "\n",
    "We have .gxl files. Those are XMLs with a lot of information. \n",
    "→ Only use the chemical symbol node label and the unlabeled, undirected edges:\n",
    "``` \n",
    "    <node id=\"_1\">\n",
    "        <attr name=\"symbol\">\n",
    "            <string>C</string>\n",
    "        </attr>\n",
    "    </node>\n",
    "     <edge from=\"_1\" to=\"_2\">\n",
    "     </edge> \n",
    "```\n",
    "\n",
    "\n",
    "Real example: \n",
    "Node 1: \n",
    "\n",
    "```\n",
    "<node id=\"_1\">\n",
    "    <attr name=\"symbol\">\n",
    "        <string>O  </string>\n",
    "    </attr>\n",
    "    <attr name=\"chem\">\n",
    "        <int>2</int>\n",
    "    </attr>\n",
    "    <attr name=\"charge\">\n",
    "        <int>0</int>\n",
    "    </attr><attr name=\"x\">\n",
    "        <float>4.9921</float>\n",
    "    </attr>\n",
    "    <attr name=\"y\">\n",
    "        <float>1.6561\n",
    "        </float>\n",
    "    </attr>\n",
    "</node>\n",
    "```\n",
    "\n",
    "Edges from Node 1: \n",
    "\n",
    "```\n",
    "<edge from=\"_1\" to=\"_2\">\n",
    "    <attr name=\"valence\"> \n",
    "    <int>1</int>\n",
    "    </attr>\n",
    "</edge>\n",
    "```"
   ]
  },
  {
   "cell_type": "markdown",
   "id": "9b91610f-4d7a-498c-bfec-795d3ee78514",
   "metadata": {},
   "source": [
    "## Parse Data correctly \n"
   ]
  },
  {
   "cell_type": "code",
   "execution_count": 85,
   "id": "28a41adb-957b-4cc0-9491-32b01a9191c3",
   "metadata": {},
   "outputs": [],
   "source": [
    "import xml.etree.ElementTree as ET\n",
    "import os \n",
    "\n",
    "def createLists(filepath):\n",
    "    tree = ET.parse(filepath)\n",
    "    root = tree.getroot()\n",
    "    nodes = []\n",
    "    edges = []\n",
    "    symbols = []\n",
    "    for node in tree.findall('.//node'):\n",
    "        for key, val in node.attrib.items():\n",
    "            nodes.append(int(val.replace(\"_\", \"\")))\n",
    "    for edge in tree.findall('.//edge'):\n",
    "        edges.append([int(edge.attrib['from'].replace('_', '')), int(edge.attrib['to'].replace('_', ''))])\n",
    "    for symbol in tree.findall('.//attr'):\n",
    "        if(symbol.attrib['name'] == 'symbol'):\n",
    "            symbols.append([symbol[0].text.replace(' ', '')]) \n",
    "    return nodes, edges, symbols \n",
    "\n",
    "nodes_ =[]\n",
    "edges_ = []\n",
    "molecules = {}\n",
    "for fn in os.scandir('../Molecules/MoleculesClassification/gxl/'):\n",
    "    # Only include XML files\n",
    "    if not fn.name.endswith('.gxl'): \n",
    "        continue\n",
    "\n",
    "    molecules[fn.name.replace('.gxl', '')] = {'symbols': [], 'nodes': [], 'edges' : []}\n",
    "    molecules[fn.name.replace('.gxl', '')]['symbols'].append(createLists(fn.path)[2])\n",
    "    molecules[fn.name.replace('.gxl', '')]['nodes'].append(createLists(fn.path)[0])\n",
    "    molecules[fn.name.replace('.gxl', '')]['edges'].append(createLists(fn.path)[1])\n"
   ]
  },
  {
   "cell_type": "code",
   "execution_count": null,
   "id": "c418e0c9-98ee-46ae-8b9d-8abe082849aa",
   "metadata": {},
   "outputs": [],
   "source": []
  },
  {
   "cell_type": "markdown",
   "id": "34af23cb-9b27-4bf6-83ad-31469cdc2d6f",
   "metadata": {},
   "source": [
    "### How to read the dictionary\n",
    "In molecules all molecules with their nodes and their edges are saved. \n",
    "\n",
    "Example: Get all edges from molecule 31510.gxl: \n"
   ]
  },
  {
   "cell_type": "code",
   "execution_count": 86,
   "id": "f3bb8714-0174-4269-a46b-f31a61571a61",
   "metadata": {},
   "outputs": [
    {
     "name": "stdout",
     "output_type": "stream",
     "text": [
      "[[[1, 2], [2, 3], [1, 5], [6, 7], [7, 8], [8, 9], [2, 10], [4, 11], [3, 12], [3, 13], [5, 14], [7, 15], [15, 16], [16, 17], [8, 18], [18, 19], [19, 20], [20, 21], [20, 22], [22, 23], [23, 24], [24, 25], [25, 26], [26, 27], [27, 28], [28, 29], [29, 30], [30, 31], [31, 32], [32, 33], [33, 34], [34, 35], [4, 5], [9, 10], [6, 10], [4, 13]]]\n",
      "{'symbols': [[['C'], ['N'], ['C'], ['C'], ['C'], ['C'], ['C'], ['C'], ['O'], ['C'], ['O'], ['O'], ['N'], ['C'], ['N'], ['N'], ['N'], ['C'], ['O'], ['C'], ['O'], ['C'], ['C'], ['O'], ['C'], ['C'], ['C'], ['C'], ['C'], ['C'], ['C'], ['C'], ['N'], ['N'], ['N']]], 'nodes': [[1, 2, 3, 4, 5, 6, 7, 8, 9, 10, 11, 12, 13, 14, 15, 16, 17, 18, 19, 20, 21, 22, 23, 24, 25, 26, 27, 28, 29, 30, 31, 32, 33, 34, 35]], 'edges': [[[1, 2], [2, 3], [1, 5], [6, 7], [7, 8], [8, 9], [2, 10], [4, 11], [3, 12], [3, 13], [5, 14], [7, 15], [15, 16], [16, 17], [8, 18], [18, 19], [19, 20], [20, 21], [20, 22], [22, 23], [23, 24], [24, 25], [25, 26], [26, 27], [27, 28], [28, 29], [29, 30], [30, 31], [31, 32], [32, 33], [33, 34], [34, 35], [4, 5], [9, 10], [6, 10], [4, 13]]]}\n"
     ]
    }
   ],
   "source": [
    "print(molecules['31510']['edges'])\n",
    "print(molecules['31510'])"
   ]
  },
  {
   "cell_type": "markdown",
   "id": "48683567-6187-4eba-a7c6-f45a101cebd8",
   "metadata": {},
   "source": [
    "## Task\n",
    "* Compute approximate GED between pairs of molecules (every molecule from valid set with every molecule from train set) with bipartite graph matching (lecture 10, slide 21)\n",
    "* Build cost matrix (Dirac)\n",
    "* Hungarian Algorithm: to find optimal assignment\n",
    "* Derive edit path costs from the result (distance for classification)\n",
    "\n",
    "* kNN for classification (optimize for k)\n",
    "  \n",
    "\n",
    "### 1. Calculate GED between pairs of molecules, bipartite graph matching "
   ]
  },
  {
   "cell_type": "code",
   "execution_count": null,
   "id": "19d9a4ea-f337-4478-8faf-127ea15c1fc8",
   "metadata": {},
   "outputs": [],
   "source": []
  },
  {
   "cell_type": "code",
   "execution_count": null,
   "id": "62e93d84-547f-4d31-9dc6-5df4cd52b26d",
   "metadata": {},
   "outputs": [],
   "source": []
  }
 ],
 "metadata": {
  "kernelspec": {
   "display_name": "Python 3 (ipykernel)",
   "language": "python",
   "name": "python3"
  },
  "language_info": {
   "codemirror_mode": {
    "name": "ipython",
    "version": 3
   },
   "file_extension": ".py",
   "mimetype": "text/x-python",
   "name": "python",
   "nbconvert_exporter": "python",
   "pygments_lexer": "ipython3",
   "version": "3.9.7"
  }
 },
 "nbformat": 4,
 "nbformat_minor": 5
}
