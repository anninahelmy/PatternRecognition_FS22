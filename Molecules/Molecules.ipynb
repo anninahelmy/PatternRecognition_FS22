{
 "cells": [
  {
   "cell_type": "markdown",
   "id": "810dfffb-22a3-4332-97c8-e81d204b81c0",
   "metadata": {
    "pycharm": {
     "name": "#%% md\n"
    }
   },
   "source": [
    "# Molecules - Task \n",
    "\n",
    "* Classify the molecules of the validation set using kNN \n",
    "* Distance: approximate Graph Edit Distance (GED)\n",
    "\n",
    "\n",
    "## Data \n",
    "\n",
    "We have .gxl files. Those are XMLs with a lot of information. \n",
    "→ Only use the chemical symbol node label and the unlabeled, undirected edges:\n",
    "``` \n",
    "    <node id=\"_1\">\n",
    "        <attr name=\"symbol\">\n",
    "            <string>C</string>\n",
    "        </attr>\n",
    "    </node>\n",
    "     <edge from=\"_1\" to=\"_2\">\n",
    "     </edge> \n",
    "```\n",
    "\n",
    "\n",
    "Real example: \n",
    "Node 1: \n",
    "\n",
    "```\n",
    "<node id=\"_1\">\n",
    "    <attr name=\"symbol\">\n",
    "        <string>O  </string>\n",
    "    </attr>\n",
    "    <attr name=\"chem\">\n",
    "        <int>2</int>\n",
    "    </attr>\n",
    "    <attr name=\"charge\">\n",
    "        <int>0</int>\n",
    "    </attr><attr name=\"x\">\n",
    "        <float>4.9921</float>\n",
    "    </attr>\n",
    "    <attr name=\"y\">\n",
    "        <float>1.6561\n",
    "        </float>\n",
    "    </attr>\n",
    "</node>\n",
    "```\n",
    "\n",
    "Edges from Node 1: \n",
    "\n",
    "```\n",
    "<edge from=\"_1\" to=\"_2\">\n",
    "    <attr name=\"valence\"> \n",
    "    <int>1</int>\n",
    "    </attr>\n",
    "</edge>\n",
    "```"
   ]
  },
  {
   "cell_type": "markdown",
   "id": "9b91610f-4d7a-498c-bfec-795d3ee78514",
   "metadata": {
    "pycharm": {
     "name": "#%% md\n"
    }
   },
   "source": [
    "## Parse Data correctly \n"
   ]
  },
  {
   "cell_type": "code",
   "execution_count": 1,
   "id": "28a41adb-957b-4cc0-9491-32b01a9191c3",
   "metadata": {
    "pycharm": {
     "name": "#%%\n"
    }
   },
   "outputs": [
    {
     "name": "stdout",
     "output_type": "stream",
     "text": [
      "defaultdict(<class 'list'>, {'nodes': [1, 2, 3, 4, 5, 6, 7, 8], 'edges': [[1, 2], [2, 3], [3, 4], [4, 5], [1, 6], [1, 7], [1, 8], [5, 6]], 'symbols': [['S'], ['O'], ['C'], ['C'], ['C'], ['O'], ['O'], ['O']], 'adj_edges': [4, 2, 2, 2, 2, 2, 1, 1]})\n",
      "defaultdict(<class 'list'>, {'nodes': [1, 2, 3, 4, 5, 6, 7, 8, 9, 10, 11], 'edges': [[1, 2], [1, 3], [3, 4], [3, 5], [4, 6], [4, 7], [5, 8], [5, 9], [7, 10], [10, 11], [9, 10]], 'symbols': [['N'], ['O'], ['C'], ['C'], ['C'], ['N'], ['N'], ['O'], ['N'], ['C'], ['C']], 'adj_edges': [2, 1, 3, 3, 3, 1, 2, 1, 2, 3, 1]})\n"
     ]
    }
   ],
   "source": [
    "import xml.etree.ElementTree as ET\n",
    "import os \n",
    "import numpy as np\n",
    "from collections import defaultdict\n",
    "import matplotlib.pyplot as plt\n",
    "\n",
    "def create_graph(filepath):\n",
    "    tree = ET.parse(filepath)\n",
    "    molecules = defaultdict(list)\n",
    "  \n",
    "    for node in tree.findall('.//node'):\n",
    "        for key, val in node.attrib.items():\n",
    "            molecules['nodes'].append(int(val.replace(\"_\", \"\")))\n",
    "    for edge in tree.findall('.//edge'):\n",
    "        molecules['edges'].append([int(edge.attrib['from'].replace('_', '')), int(edge.attrib['to'].replace('_', ''))])\n",
    "    for symbol in tree.findall('.//attr'):\n",
    "        if(symbol.attrib['name'] == 'symbol'):\n",
    "            molecules['symbols'].append([symbol[0].text.strip()])\n",
    "    for node in molecules['nodes']:\n",
    "        counter = 0\n",
    "        for edge in molecules['edges']:\n",
    "            if node in edge:\n",
    "                counter += 1\n",
    "        molecules['adj_edges'].append(counter)\n",
    "    return molecules\n",
    "\n",
    "\n",
    "#check if all valid files can be transformed\n",
    "graphs = []\n",
    "for fn in os.scandir('../Molecules/MoleculesClassification/gxl/'):\n",
    "    # Only include XML files\n",
    "    if not fn.name.endswith('.gxl'): \n",
    "        continue\n",
    "    graphs.append(create_graph(fn))\n",
    "print(graphs[3])\n",
    "print(graphs[1])"
   ]
  },
  {
   "cell_type": "code",
   "execution_count": 2,
   "id": "8a36099b-39d1-477c-bf6f-6766a76a73b6",
   "metadata": {
    "pycharm": {
     "name": "#%%\n"
    }
   },
   "outputs": [
    {
     "name": "stdout",
     "output_type": "stream",
     "text": [
      "defaultdict(<class 'list'>, {'nodes': [1, 2, 3, 4, 5, 6, 7, 8], 'edges': [[1, 2], [2, 3], [3, 4], [4, 5], [1, 6], [1, 7], [1, 8], [5, 6]], 'symbols': [['S'], ['O'], ['C'], ['C'], ['C'], ['O'], ['O'], ['O']], 'adj_edges': [4, 2, 2, 2, 2, 2, 1, 1]})\n"
     ]
    }
   ],
   "source": [
    "import random\n",
    "import math\n",
    "\n",
    "def load_set(set_name, path):\n",
    "    graphs, labels = [], []\n",
    "    file=open(path+set_name,\"r\")\n",
    "    lines = file.readlines()\n",
    "    for line in lines:\n",
    "        file_name = line.split(\" \")[0]\n",
    "        label = line.split(\" \")[1].strip()\n",
    "        graph_path = path + 'gxl' + \"/\" + file_name + \".gxl\"\n",
    "        graphs.append(create_graph(graph_path))\n",
    "        labels.append(label)\n",
    "    return graphs, labels    \n",
    "        \n",
    "graphs_train, labels_train = load_set(\"train.txt\", \"../Molecules/MoleculesClassification/\")\n",
    "graphs_valid, labels_valid = load_set(\"valid.txt\", \"../Molecules/MoleculesClassification/\")\n",
    "\n",
    "def split_data(graphs, labels):\n",
    "    indices = list(range(len(graphs)))\n",
    "    random.shuffle(indices)\n",
    "    x = math.floor(0.7*len(graphs))\n",
    "    split_train = indices[:x]\n",
    "    split_test = indices[x:]\n",
    "    train_graphs = [graphs[i] for i in split_train]\n",
    "    train_labels = [labels[i] for i in split_train]\n",
    "    test_graphs = [graphs[i] for i in split_test]\n",
    "    test_labels = [labels[i] for i in split_test]     \n",
    "    return train_graphs, train_labels, test_graphs, test_labels\n",
    "\n",
    "train_graphs, train_labels, test_graphs, test_labels = split_data(graphs_train, labels_train)\n",
    "\n",
    "print(train_graphs[0])"
   ]
  },
  {
   "cell_type": "markdown",
   "id": "48683567-6187-4eba-a7c6-f45a101cebd8",
   "metadata": {
    "pycharm": {
     "name": "#%% md\n"
    }
   },
   "source": [
    "## Task\n",
    "* Compute approximate GED between pairs of molecules (every molecule from valid set with every molecule from train set) with bipartite graph matching (lecture 10, slide 21)\n",
    "* Build cost matrix (Dirac)\n",
    "    * Use Dirac cost function for GED (optimize Cn and Ce) (lecture 9, slide 36)\n",
    "    * Node substitution: 2*Cn if symbols ≠, 0 otherwise Node deletion/insertion: Cn\n",
    "    * Edge deletion/insertion: Ce\n",
    "* Hungarian Algorithm: to find optimal assignment\n",
    "* Derive edit path costs from the result (distance for classification)\n",
    "\n",
    "* kNN for classification (optimize for k)\n",
    "  \n",
    "\n",
    "### 1. Calculate GED between pairs of molecules, bipartite graph matching "
   ]
  },
  {
   "cell_type": "markdown",
   "id": "eb324677-25a2-4e24-824f-09df83a09259",
   "metadata": {
    "pycharm": {
     "name": "#%% md\n"
    }
   },
   "source": [
    "### Bipartite graph matching procedure: \n",
    "![BP_image](BP_image.jpg)\n",
    "\n",
    "#### Cost Matrix: \n",
    "1.  Upper left: substitutions (nodes plus adjacent edges) \n",
    "2.  Upper right: deletions (nodes plus adjacent edges) \n",
    "3.  Lower left: insertions (nodes plus adjacent edges)\n",
    "4.  Lower right: dummy assignments (ε → ε)"
   ]
  },
  {
   "cell_type": "code",
   "execution_count": 3,
   "id": "62e93d84-547f-4d31-9dc6-5df4cd52b26d",
   "metadata": {
    "pycharm": {
     "name": "#%%\n"
    }
   },
   "outputs": [
    {
     "name": "stdout",
     "output_type": "stream",
     "text": [
      "[[ 0.  3.  4.  4.  4.  4.  4.  4.  5. inf inf inf inf inf inf inf]\n",
      " [ 3.  3.  2.  2.  2.  2.  2.  2.  0.  3. inf inf inf inf inf inf]\n",
      " [ 3.  0.  0.  2.  0.  0.  0.  0.  0. inf  3. inf inf inf inf inf]\n",
      " [ 3.  0.  0.  2.  0.  0.  0.  0.  0. inf inf  3. inf inf inf inf]\n",
      " [ 3.  0.  0.  2.  0.  0.  0.  0.  0. inf inf inf  3. inf inf inf]\n",
      " [ 3.  3.  2.  2.  2.  2.  2.  2.  0. inf inf inf inf  3. inf inf]\n",
      " [ 2.  4.  3.  3.  3.  3.  3.  3.  0. inf inf inf inf inf  2. inf]\n",
      " [ 2.  4.  3.  3.  3.  3.  3.  3.  0. inf inf inf inf inf inf  2.]\n",
      " [ 2.  0.  0.  0.  0.  0.  0.  0.  0.  0.  0.  0.  0.  0.  0.  0.]\n",
      " [inf  4. inf inf inf inf inf inf  0.  0.  0.  0.  0.  0.  0.  0.]\n",
      " [inf inf  3. inf inf inf inf inf  0.  0.  0.  0.  0.  0.  0.  0.]\n",
      " [inf inf inf  3. inf inf inf inf  0.  0.  0.  0.  0.  0.  0.  0.]\n",
      " [inf inf inf inf  3. inf inf inf  0.  0.  0.  0.  0.  0.  0.  0.]\n",
      " [inf inf inf inf inf  3. inf inf  0.  0.  0.  0.  0.  0.  0.  0.]\n",
      " [inf inf inf inf inf inf  3. inf  0.  0.  0.  0.  0.  0.  0.  0.]\n",
      " [inf inf inf inf inf inf inf  3.  0.  0.  0.  0.  0.  0.  0.  0.]]\n"
     ]
    }
   ],
   "source": [
    "#input: two dicts from graphs list \n",
    "def cost_matrix(graph1, graph2, Cn, Ce): \n",
    "    n = len(graph1['nodes'])\n",
    "    m = len(graph2['nodes'])\n",
    "    l = n+m\n",
    "    cost_matrix = np.zeros((l,l))\n",
    "    #upper left, substitutions \n",
    "    for i in range(0, n):\n",
    "        for j in range(0, m):\n",
    "            if graph1['symbols'][i] != graph2['symbols'][j]:\n",
    "                difference_edges = abs(graph1['adj_edges'][i]- graph2['adj_edges'][j])\n",
    "                cost_matrix.itemset((i, j), 2*Cn + difference_edges*Ce)\n",
    "    #upper right: deletions; here one wants to compute the costs of deleting one node + edge (base graph) \n",
    "    for i in range(0,n):\n",
    "        for j in range(m+1,l):\n",
    "            cost_matrix.itemset((i, j), np.Inf)\n",
    "            cost_del = (Cn + graph1['adj_edges'][i]*Ce)\n",
    "            cost_matrix.itemset((i, m+i), cost_del)\n",
    "   \n",
    "    #lower left: insertions -- here one wants to compute the cost to insert a node from graph2 into graph1 \n",
    "    for i in range(n+1, l):\n",
    "        for j in range(0, m):\n",
    "            cost_matrix.itemset((i, j), np.Inf)\n",
    "            cost_ins = (Cn + graph2['adj_edges'][j]*Ce)\n",
    "            cost_matrix.itemset((n+j, j), cost_ins)\n",
    "    return cost_matrix\n",
    "\n",
    "print(cost_matrix(train_graphs[0], train_graphs[1], 1, 1))\n"
   ]
  },
  {
   "cell_type": "code",
   "execution_count": 4,
   "id": "16defcef-54fe-4aa6-b458-6f587531e79b",
   "metadata": {
    "pycharm": {
     "name": "#%%\n"
    }
   },
   "outputs": [
    {
     "name": "stdout",
     "output_type": "stream",
     "text": [
      "7.0\n",
      "[[  2.  12.  16. ...  14.  10. 153.]\n",
      " [ 39.  30.  21. ...  20.  31. 112.]\n",
      " [ 10.   6.   4. ...   6.  12. 141.]\n",
      " ...\n",
      " [ 12.   5.   6. ...   8.  12. 138.]\n",
      " [ 17.  10.   2. ...   0.  21. 139.]\n",
      " [ 12.   7.   0. ...   4.  14. 142.]]\n"
     ]
    }
   ],
   "source": [
    "from scipy.optimize import linear_sum_assignment\n",
    "def graph_edit_distance(graph1, graph2, Cn, Ce):\n",
    "    c = cost_matrix(graph1, graph2, Cn, Ce)\n",
    "    row_ind, col_ind = linear_sum_assignment(c)\n",
    "    return c[row_ind, col_ind].sum()\n",
    "\n",
    "print(graph_edit_distance(train_graphs[0], train_graphs[1], 1,1))\n",
    "\n",
    "def distance_matrix(test, train, Cn, Ce):\n",
    "    distance_matrix = np.zeros((len(test), len(train)))\n",
    "    for index_test, graph_test in enumerate(test):\n",
    "        for index_train, graph_train in enumerate(train):\n",
    "            distance_matrix.itemset((index_test,index_train), graph_edit_distance(graph_test, graph_train, Cn, Ce))\n",
    "            \n",
    "    return distance_matrix\n",
    "\n",
    "dist = distance_matrix(test_graphs, train_graphs, 1, 1)\n",
    "np.savetxt('distance_matrix.csv', dist, delimiter = ',')\n",
    "print(dist)"
   ]
  },
  {
   "cell_type": "code",
   "execution_count": 5,
   "outputs": [
    {
     "data": {
      "text/plain": "<Figure size 432x288 with 1 Axes>",
      "image/png": "[encoded data removed]"
     },
     "metadata": {
      "needs_background": "light"
     },
     "output_type": "display_data"
    },
    {
     "name": "stdout",
     "output_type": "stream",
     "text": [
      "[1, 2, 3, 4, 5, 6, 7]\n"
     ]
    }
   ],
   "source": [
    "def knn(dist_mat, k, test_labels, train_labels):\n",
    "    correct = 0\n",
    "    for index, row in enumerate(dist_mat):\n",
    "        smallest_k_values = np.argsort(row)[:k]\n",
    "        train_labels_k = [train_labels[i] for i in smallest_k_values]\n",
    "        count_a = train_labels_k.count('a')\n",
    "        count_i = k - count_a\n",
    "        if(count_a >= count_i):\n",
    "            predicted_label = 'a'\n",
    "        else:\n",
    "            predicted_label = 'i'\n",
    "        correct += int(predicted_label == test_labels[index])\n",
    "    return correct/len(test_labels)\n",
    "\n",
    "accuracies = []\n",
    "ks = range(1, 60)\n",
    "for k in ks:\n",
    "    accuracy = knn(dist, k, test_labels, train_labels)\n",
    "    accuracies.append(accuracy)\n",
    "fig, ax = plt.subplots()\n",
    "ax.plot(ks, accuracies)\n",
    "ax.set(xlabel=\"k\",\n",
    "       ylabel=\"Accuracy\",\n",
    "       title=\"Performance of knn\")\n",
    "plt.show()\n",
    "\n",
    "indices = [index for index, item in enumerate(accuracies) if item == max(accuracies)]\n",
    "print(indices)"
   ],
   "metadata": {
    "collapsed": false,
    "pycharm": {
     "name": "#%%\n"
    }
   }
  },
  {
   "cell_type": "markdown",
   "source": [
    "## Linear Sum Assignment\n"
   ],
   "metadata": {
    "collapsed": false,
    "pycharm": {
     "name": "#%% md\n"
    }
   }
  },
  {
   "cell_type": "code",
   "execution_count": 6,
   "id": "4ba602d0-f811-47a2-9d9f-a286bddafbf9",
   "metadata": {
    "pycharm": {
     "name": "#%%\n"
    }
   },
   "outputs": [
    {
     "name": "stdout",
     "output_type": "stream",
     "text": [
      "cn: 0.2 ce: 1\n",
      "(3, 0.996)\n"
     ]
    },
    {
     "data": {
      "text/plain": "<Figure size 432x288 with 1 Axes>",
      "image/png": "[encoded data removed]"
     },
     "metadata": {
      "needs_background": "light"
     },
     "output_type": "display_data"
    },
    {
     "name": "stdout",
     "output_type": "stream",
     "text": [
      "cn: 0.5 ce: 1\n",
      "(3, 0.996)\n"
     ]
    },
    {
     "data": {
      "text/plain": "<Figure size 432x288 with 1 Axes>",
      "image/png": "[encoded data removed]"
     },
     "metadata": {
      "needs_background": "light"
     },
     "output_type": "display_data"
    },
    {
     "name": "stdout",
     "output_type": "stream",
     "text": [
      "cn: 1 ce: 1\n",
      "(3, 0.996)\n"
     ]
    },
    {
     "data": {
      "text/plain": "<Figure size 432x288 with 1 Axes>",
      "image/png": "[encoded data removed]"
     },
     "metadata": {
      "needs_background": "light"
     },
     "output_type": "display_data"
    },
    {
     "name": "stdout",
     "output_type": "stream",
     "text": [
      "cn: 2 ce: 1\n",
      "(3, 0.992)\n"
     ]
    },
    {
     "data": {
      "text/plain": "<Figure size 432x288 with 1 Axes>",
      "image/png": "[encoded data removed]"
     },
     "metadata": {
      "needs_background": "light"
     },
     "output_type": "display_data"
    },
    {
     "name": "stdout",
     "output_type": "stream",
     "text": [
      "cn: 5 ce: 1\n",
      "(3, 0.992)\n"
     ]
    },
    {
     "data": {
      "text/plain": "<Figure size 432x288 with 1 Axes>",
      "image/png": "[encoded data removed]"
     },
     "metadata": {
      "needs_background": "light"
     },
     "output_type": "display_data"
    },
    {
     "name": "stdout",
     "output_type": "stream",
     "text": [
      "cn: 10 ce: 1\n",
      "(3, 0.992)\n"
     ]
    },
    {
     "data": {
      "text/plain": "<Figure size 432x288 with 1 Axes>",
      "image/png": "[encoded data removed]"
     },
     "metadata": {
      "needs_background": "light"
     },
     "output_type": "display_data"
    }
   ],
   "source": [
    "for cn in (0.2, 0.5, 1, 2, 5, 10):\n",
    "    ce = 1\n",
    "    print(\"cn:\", cn, \"ce:\", ce)\n",
    "    dist_ = distance_matrix(graphs_valid, graphs_train, cn, ce)\n",
    "\n",
    "    accuracies = []\n",
    "    ks = range(1, 30)\n",
    "    max_accuracy = (-1, 0)\n",
    "    for k in ks:\n",
    "        accuracy = knn(dist_, k, labels_valid, labels_train)\n",
    "        accuracies.append(accuracy)\n",
    "        if(accuracy > max_accuracy[1]):\n",
    "            max_accuracy = (k, accuracy)\n",
    "\n",
    "    print(max_accuracy)\n",
    "\n",
    "    fig, ax = plt.subplots()\n",
    "    ax.plot(ks, accuracies)\n",
    "    ax.set(xlabel=\"k\",\n",
    "           ylabel=\"Accuracy\",\n",
    "           title=\"Performance of knn\")\n",
    "    plt.show()\n",
    "\n"
   ]
  },
  {
   "cell_type": "code",
   "execution_count": 7,
   "id": "ca4f3295-7f1f-4392-b18d-e1192b1424c9",
   "metadata": {
    "pycharm": {
     "name": "#%%\n"
    }
   },
   "outputs": [
    {
     "name": "stdout",
     "output_type": "stream",
     "text": [
      "Accuracy on valid with k = 3:  0.992\n"
     ]
    }
   ],
   "source": [
    "accuracy = knn(dist_, 3,labels_valid, labels_train)\n",
    "print(\"Accuracy on valid with k = 3: \", accuracy)"
   ]
  },
  {
   "cell_type": "code",
   "execution_count": 15,
   "outputs": [
    {
     "name": "stdout",
     "output_type": "stream",
     "text": [
      "success\n"
     ]
    }
   ],
   "source": [
    "def load_graphs(path):\n",
    "    graphs = []\n",
    "    names = []\n",
    "    for fn in os.scandir(path):\n",
    "        if not fn.name.endswith('.gxl'):\n",
    "            continue\n",
    "        graphs.append(create_graph(fn))\n",
    "        names.append(fn.name.split('.gxl')[0])\n",
    "    return graphs, names\n",
    "\n",
    "\n",
    "\n",
    "competition_graphs, competition_names = load_graphs('../Molecules/MoleculesClassification/TestMolecules/gxl/')\n",
    "\n",
    "dist = distance_matrix(competition_graphs, train_graphs, 1, 1)\n",
    "graphs_labeled = []\n",
    "k=3\n",
    "i = 0\n",
    "for index, row in enumerate(dist):\n",
    "    smallest_k_values = np.argsort(row)[:k]\n",
    "    train_labels_k = [train_labels[i] for i in smallest_k_values]\n",
    "    count_a = train_labels_k.count('a')\n",
    "    count_i = k - count_a\n",
    "    if(count_a >= count_i):\n",
    "        graphs_labeled.append(str(competition_names[i]) + ',a')\n",
    "    else:\n",
    "        graphs_labeled.append(str(competition_names[i]) + ',i')\n",
    "    i+=1\n",
    "if(i != len(competition_names)):\n",
    "    print('error', len(competition_graphs), ':', i)\n",
    "else:\n",
    "    np.savetxt('mol.csv', graphs_labeled, delimiter = '\\n', fmt = '%s')\n",
    "    print('success')"
   ],
   "metadata": {
    "collapsed": false,
    "pycharm": {
     "name": "#%%\n"
    }
   }
  }
 ],
 "metadata": {
  "kernelspec": {
   "display_name": "Python 3 (ipykernel)",
   "language": "python",
   "name": "python3"
  },
  "language_info": {
   "codemirror_mode": {
    "name": "ipython",
    "version": 3
   },
   "file_extension": ".py",
   "mimetype": "text/x-python",
   "name": "python",
   "nbconvert_exporter": "python",
   "pygments_lexer": "ipython3",
   "version": "3.9.7"
  }
 },
 "nbformat": 4,
 "nbformat_minor": 5
}