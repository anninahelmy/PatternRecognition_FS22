{
 "cells": [
  {
   "cell_type": "markdown",
   "id": "ed46ad14-d8f2-4129-a1e5-2eba96070871",
   "metadata": {},
   "source": [
    "## Distance Matrix function \n",
    "\n",
    "wenn möglich en function \"dist_mat\" z implementiere, wo als argument \"images_data\" ond \"images_keywords\" nimmt ond d distance matrix berächnet. das heisst, \"images_keywords\" esch en liste mit je eim bild vo de keywords ond s berächnet för jedes keyword en matrix vo dissimiliarities vo allne bilder usem data set."
   ]
  },
  {
   "cell_type": "code",
   "execution_count": 1,
   "id": "5edad824-29a2-406b-8a9c-35ae3838bf57",
   "metadata": {},
   "outputs": [
    {
     "data": {
      "text/plain": [
       "array([[1.        , 1.41421356],\n",
       "       [1.41421356, 1.        ]])"
      ]
     },
     "execution_count": 1,
     "metadata": {},
     "output_type": "execute_result"
    }
   ],
   "source": [
    "from scipy.spatial import distance_matrix\n",
    "distance_matrix([[0,0],[0,1]], [[1,0],[1,1]])\n"
   ]
  },
  {
   "cell_type": "code",
   "execution_count": 25,
   "id": "85d4290c-6339-4124-af55-2ae61245a40b",
   "metadata": {},
   "outputs": [
    {
     "name": "stdout",
     "output_type": "stream",
     "text": [
      "[[[1, 0, 0], [1, 0, 1], [0, 0, 1]], [[1, 1, 1], [0, 1, 0], [1, 1, 1]]]\n",
      "[[[1, 1, 1], [1, 1, 1], [0, 0, 1]], [[0, 0, 0], [0, 0, 1], [1, 0, 1]], [[1, 1, 0], [0, 1, 1], [0, 0, 1]], [[1, 1, 1], [1, 1, 1], [1, 1, 1]]]\n",
      "2\n",
      "4\n"
     ]
    }
   ],
   "source": [
    "data = [[[1, 0, 0], [1, 0, 1], [0,0,1]], [[1,1,1], [0,1,0], [1,1,1]]]\n",
    "print(data)\n",
    "img = [[[1, 1, 1], [1, 1, 1], [0,0,1]], [[0, 0, 0], [0, 0, 1], [1,0,1]], [[1, 1, 0], [0, 1, 1], [0,0,1]], [[1, 1, 1], [1, 1, 1], [1,1,1]]]\n",
    "print(img)\n",
    "print(len(data))\n",
    "print(len(img))\n",
    "       "
   ]
  },
  {
   "cell_type": "code",
   "execution_count": 26,
   "id": "e16b7c47-263c-4dec-8cee-2b77f855149f",
   "metadata": {},
   "outputs": [],
   "source": [
    "def dist_mat(images_data, images_keywords):\n",
    "    distance_list = []\n",
    "    for keyword in images_keywords:\n",
    "        for img in images_data:\n",
    "            distance_mat = distance_matrix(keyword, img)\n",
    "            distance_list.append(distance_mat)\n",
    "    print(distance_list)\n",
    "    return distance_list"
   ]
  },
  {
   "cell_type": "code",
   "execution_count": 27,
   "id": "30ffa766-3e04-4c67-8fd6-e7855c6faf57",
   "metadata": {},
   "outputs": [
    {
     "name": "stdout",
     "output_type": "stream",
     "text": [
      "[array([[1.41421356, 1.        , 1.41421356],\n",
      "       [1.41421356, 1.        , 1.41421356],\n",
      "       [1.41421356, 1.        , 0.        ]]), array([[0.        , 1.41421356, 0.        ],\n",
      "       [0.        , 1.41421356, 0.        ],\n",
      "       [1.41421356, 1.41421356, 1.41421356]]), array([[1.        , 1.41421356, 1.        ],\n",
      "       [1.41421356, 1.        , 0.        ],\n",
      "       [1.        , 0.        , 1.        ]]), array([[1.73205081, 1.        , 1.73205081],\n",
      "       [1.41421356, 1.41421356, 1.41421356],\n",
      "       [1.        , 1.73205081, 1.        ]]), array([[1.        , 1.41421356, 1.73205081],\n",
      "       [1.73205081, 1.41421356, 1.        ],\n",
      "       [1.41421356, 1.        , 0.        ]]), array([[1.        , 1.        , 1.        ],\n",
      "       [1.        , 1.        , 1.        ],\n",
      "       [1.41421356, 1.41421356, 1.41421356]]), array([[1.41421356, 1.        , 1.41421356],\n",
      "       [1.41421356, 1.        , 1.41421356],\n",
      "       [1.41421356, 1.        , 1.41421356]]), array([[0.        , 1.41421356, 0.        ],\n",
      "       [0.        , 1.41421356, 0.        ],\n",
      "       [0.        , 1.41421356, 0.        ]])]\n",
      "[array([[1.41421356, 1.        , 1.41421356],\n",
      "       [1.41421356, 1.        , 1.41421356],\n",
      "       [1.41421356, 1.        , 0.        ]]), array([[0.        , 1.41421356, 0.        ],\n",
      "       [0.        , 1.41421356, 0.        ],\n",
      "       [1.41421356, 1.41421356, 1.41421356]]), array([[1.        , 1.41421356, 1.        ],\n",
      "       [1.41421356, 1.        , 0.        ],\n",
      "       [1.        , 0.        , 1.        ]]), array([[1.73205081, 1.        , 1.73205081],\n",
      "       [1.41421356, 1.41421356, 1.41421356],\n",
      "       [1.        , 1.73205081, 1.        ]]), array([[1.        , 1.41421356, 1.73205081],\n",
      "       [1.73205081, 1.41421356, 1.        ],\n",
      "       [1.41421356, 1.        , 0.        ]]), array([[1.        , 1.        , 1.        ],\n",
      "       [1.        , 1.        , 1.        ],\n",
      "       [1.41421356, 1.41421356, 1.41421356]]), array([[1.41421356, 1.        , 1.41421356],\n",
      "       [1.41421356, 1.        , 1.41421356],\n",
      "       [1.41421356, 1.        , 1.41421356]]), array([[0.        , 1.41421356, 0.        ],\n",
      "       [0.        , 1.41421356, 0.        ],\n",
      "       [0.        , 1.41421356, 0.        ]])]\n"
     ]
    },
    {
     "ename": "AttributeError",
     "evalue": "'list' object has no attribute 'shape'",
     "output_type": "error",
     "traceback": [
      "\u001b[0;31m---------------------------------------------------------------------------\u001b[0m",
      "\u001b[0;31mAttributeError\u001b[0m                            Traceback (most recent call last)",
      "\u001b[0;32m/var/folders/z7/341w3s295dg9rwzw780tkxr40000gn/T/ipykernel_70309/1705721685.py\u001b[0m in \u001b[0;36m<module>\u001b[0;34m\u001b[0m\n\u001b[1;32m      1\u001b[0m \u001b[0mdist_mat\u001b[0m\u001b[0;34m(\u001b[0m\u001b[0mdata\u001b[0m\u001b[0;34m,\u001b[0m \u001b[0mimg\u001b[0m\u001b[0;34m)\u001b[0m\u001b[0;34m\u001b[0m\u001b[0;34m\u001b[0m\u001b[0m\n\u001b[1;32m      2\u001b[0m \u001b[0;34m\u001b[0m\u001b[0m\n\u001b[0;32m----> 3\u001b[0;31m \u001b[0mdist_mat\u001b[0m\u001b[0;34m(\u001b[0m\u001b[0mdata\u001b[0m\u001b[0;34m,\u001b[0m \u001b[0mimg\u001b[0m\u001b[0;34m)\u001b[0m\u001b[0;34m.\u001b[0m\u001b[0mshape\u001b[0m\u001b[0;34m\u001b[0m\u001b[0;34m\u001b[0m\u001b[0m\n\u001b[0m\u001b[1;32m      4\u001b[0m \u001b[0;34m\u001b[0m\u001b[0m\n",
      "\u001b[0;31mAttributeError\u001b[0m: 'list' object has no attribute 'shape'"
     ]
    }
   ],
   "source": [
    "dist_mat(data, img)\n",
    "\n",
    "dist_mat(data, img)\n",
    "\n"
   ]
  },
  {
   "cell_type": "code",
   "execution_count": null,
   "id": "4e938bd2-f83a-475c-a0b9-25b2a6fbeadc",
   "metadata": {},
   "outputs": [],
   "source": []
  }
 ],
 "metadata": {
  "kernelspec": {
   "display_name": "Python 3 (ipykernel)",
   "language": "python",
   "name": "python3"
  },
  "language_info": {
   "codemirror_mode": {
    "name": "ipython",
    "version": 3
   },
   "file_extension": ".py",
   "mimetype": "text/x-python",
   "name": "python",
   "nbconvert_exporter": "python",
   "pygments_lexer": "ipython3",
   "version": "3.9.7"
  }
 },
 "nbformat": 4,
 "nbformat_minor": 5
}
