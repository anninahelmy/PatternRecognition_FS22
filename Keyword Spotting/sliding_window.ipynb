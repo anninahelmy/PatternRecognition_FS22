{
 "cells": [
  {
   "cell_type": "markdown",
   "id": "2d5c8fed-cecb-49ee-8fa6-e2f6686764fc",
   "metadata": {},
   "source": [
    "# Generate the Feature Vector \n",
    "(Session 08, Slide 17)\n",
    "Sliding window (suggestion: width 1 px, offset 1px)\n",
    "\n",
    "* Lower contour (LC)\n",
    "* Upper contour (UC)\n",
    "* no. of b/w transitions\n",
    "* Fraction of black pixels in the window\n",
    "* Fraction of black pixels between LC and UC\n",
    "* Gradient: difference LCi, UCi to LCi+1, UCi+1"
   ]
  },
  {
   "cell_type": "markdown",
   "id": "21d3236b-1643-4c3d-9c10-fe1a6d53c984",
   "metadata": {},
   "source": [
    "## 1. Preprocessing"
   ]
  },
  {
   "cell_type": "code",
   "execution_count": null,
   "id": "d91b9f9d-d019-454f-8d99-6912e3e77c60",
   "metadata": {},
   "outputs": [],
   "source": [
    "\n",
    "exampleImage = words[\"302.jpg\"][13]\n",
    "pixels = np.asarray(exampleImage)\n",
    "print(pixels)"
   ]
  }
 ],
 "metadata": {
  "kernelspec": {
   "display_name": "Python 3 (ipykernel)",
   "language": "python",
   "name": "python3"
  },
  "language_info": {
   "codemirror_mode": {
    "name": "ipython",
    "version": 3
   },
   "file_extension": ".py",
   "mimetype": "text/x-python",
   "name": "python",
   "nbconvert_exporter": "python",
   "pygments_lexer": "ipython3",
   "version": "3.9.7"
  }
 },
 "nbformat": 4,
 "nbformat_minor": 5
}
