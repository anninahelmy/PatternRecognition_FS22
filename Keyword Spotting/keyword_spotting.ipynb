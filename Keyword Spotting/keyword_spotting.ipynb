{
 "cells": [
  {
   "cell_type": "code",
   "execution_count": 34,
   "metadata": {},
   "outputs": [],
   "source": [
    "from PIL import Image\n",
    "import numpy as np"
   ]
  },
  {
   "cell_type": "markdown",
   "metadata": {},
   "source": [
    "First load train images: "
   ]
  },
  {
   "cell_type": "code",
   "execution_count": 35,
   "metadata": {},
   "outputs": [],
   "source": [
    "with open(\"task/train.txt\", \"r\") as f:\n",
    "    train_imgs = [np.array(Image.open(f\"images/{l.strip()}.jpg\")).reshape(1, -1) for l in f]"
   ]
  },
  {
   "cell_type": "markdown",
   "metadata": {},
   "source": [
    "Next use Otsu method to binarize all training images:"
   ]
  },
  {
   "cell_type": "code",
   "execution_count": 36,
   "metadata": {},
   "outputs": [],
   "source": [
    "def binarize(i, t):\n",
    "    \"\"\"Binarize an image (as numpy array) using the given threshold.\"\"\"\n",
    "    thresholded_im = np.zeros(i.shape)\n",
    "    thresholded_im[i >= t] = 1\n",
    "    return thresholded_im\n",
    "\n",
    "\n",
    "def otsu_threshold_value(i, t):\n",
    "    \"\"\"\n",
    "    This is essentially copied from https://en.wikipedia.org/wiki/Otsu's_method#Python_implementation\n",
    "\n",
    "    Args:\n",
    "        i (np.array): the image that should be binarized\n",
    "        t (int): threshold to test\n",
    "\n",
    "    Returns:\n",
    "        (int) intra-class variance of black and white pixels\n",
    "    \"\"\"\n",
    "    thresholded_im = binarize(i, t)\n",
    "\n",
    "    nb_pixels = len(i)\n",
    "    nb_pixels1 = np.count_nonzero(thresholded_im)\n",
    "    weight1 = nb_pixels1 / nb_pixels\n",
    "    weight0 = 1 - weight1\n",
    "\n",
    "    if weight1 == 0 or weight0 == 0:\n",
    "        return 10000\n",
    "\n",
    "    val_pixels1 = i[thresholded_im == 1]\n",
    "    val_pixels0 = i[thresholded_im == 0]\n",
    "\n",
    "    var0 = np.var(val_pixels0) if len(val_pixels0) > 0 else 0\n",
    "    var1 = np.var(val_pixels1) if len(val_pixels1) > 0 else 0\n",
    "\n",
    "    return weight0 * var0 + weight1 * var1\n",
    "\n",
    "\n",
    "def best_threshold(i):\n",
    "    thresholds = [(i * 0xff)/20 for i in range(20)]\n",
    "    return thresholds[np.argmax([otsu_threshold_value(i, t) for t in thresholds])]\n",
    "\n",
    "\n",
    "binarized_train_imgs = [binarize(i, best_threshold(i)) for i in train_imgs]"
   ]
  }
 ],
 "metadata": {
  "interpreter": {
   "hash": "e4876ffb0edad661dde9910715b8d0b71026c06e8e8e3a754ed29e13fca540a5"
  },
  "kernelspec": {
   "display_name": "Python 3.9.9 ('init': venv)",
   "language": "python",
   "name": "python3"
  },
  "language_info": {
   "codemirror_mode": {
    "name": "ipython",
    "version": 3
   },
   "file_extension": ".py",
   "mimetype": "text/x-python",
   "name": "python",
   "nbconvert_exporter": "python",
   "pygments_lexer": "ipython3",
   "version": "3.9.9"
  },
  "orig_nbformat": 4
 },
 "nbformat": 4,
 "nbformat_minor": 2
}
