{
 "cells": [
  {
   "cell_type": "code",
   "execution_count": 2,
   "id": "14ea9b56-fcee-4ab3-913d-b068cf11f534",
   "metadata": {},
   "outputs": [],
   "source": [
    "from sklearn.neural_network import MLPClassifier\n",
    "from PIL import Image\n",
    "from os import listdir\n",
    "from functools import reduce\n",
    "import numpy as np\n",
    "import matplotlib.pyplot as plt\n",
    "from IPython.display import display\n",
    "import time"
   ]
  },
  {
   "cell_type": "code",
   "execution_count": 6,
   "id": "e63dd09a-f47b-4585-86ad-fb8ea36bfe23",
   "metadata": {},
   "outputs": [
    {
     "name": "stdout",
     "output_type": "stream",
     "text": [
      "Shape of x_train: (60000, 784); shape of y_train: (60000,).\n",
      "Shape of x_test: (10000, 784); shape of y_test: (10000,).\n",
      "Shape of x_perm_train: (60000, 784); shape of y_train: (60000,).\n",
      "Shape of x_perm_test: (10000, 784); shape of y_test: (10000,).\n"
     ]
    }
   ],
   "source": [
    "train_folder = \"mnist-png-format/train/\"\n",
    "test_folder = \"mnist-png-format/test/\"\n",
    "\n",
    "train_perm_folder = \"mnist-png-format-permutated/train/\"\n",
    "test_perm_folder = \"mnist-png-format-permutated/test/\"\n",
    "\n",
    "def load_images(folder_path):\n",
    "    data = {int(s): [np.asarray(Image.open(f\"{folder_path}/{s}/{p}\")).reshape(-1, )\n",
    "        for p in listdir(f\"{folder_path}{s}\")\n",
    "    ] for s in listdir(folder_path)}\n",
    "\n",
    "    (ys, xs) = reduce(\n",
    "        lambda a, b: (a[0] + [b[0]]*len(b[1]), a[1] + b[1]),\n",
    "        data.items(),\n",
    "        ([], [])\n",
    "    )\n",
    "\n",
    "    return np.array(ys), np.array(xs)\n",
    "\n",
    "y_test, x_test = load_images(test_folder)\n",
    "y_train, x_train = load_images(train_folder)\n",
    "\n",
    "y_test_perm, X_test_perm = load_images(test_perm_folder)\n",
    "y_train_perm, X_train_perm =load_images(train_perm_folder)\n",
    "\n",
    "print(f\"Shape of x_train: {x_train.shape}; shape of y_train: {y_train.shape}.\")\n",
    "print(f\"Shape of x_test: {x_test.shape}; shape of y_test: {y_test.shape}.\")\n",
    "\n",
    "print(f\"Shape of x_perm_train: {X_train_perm.shape}; shape of y_train: {y_train_perm.shape}.\")\n",
    "print(f\"Shape of x_perm_test: {X_test_perm.shape}; shape of y_test: {y_test_perm.shape}.\")"
   ]
  },
  {
   "cell_type": "code",
   "execution_count": 9,
   "id": "fef424eb-a0c2-42de-93e0-e086be8585b8",
   "metadata": {},
   "outputs": [
    {
     "name": "stdout",
     "output_type": "stream",
     "text": [
      "Time spent to execute the classification: 108.49 seconds.\n",
      "Time spent to execute the classification on permutated set: 102.88 seconds.\n"
     ]
    }
   ],
   "source": [
    "t100 = time.perf_counter()\n",
    "clf100_perm = MLPClassifier(hidden_layer_sizes=(100,))\n",
    "clf100_perm.fit(x_train, y_train)\n",
    "t100 = time.perf_counter() - t100\n",
    "print(f\"Time spent to execute the classification on permutated set: {round(t100,2)} seconds.\")"
   ]
  },
  {
   "cell_type": "code",
   "execution_count": 13,
   "id": "fb9bc9d2-958e-4ae9-9d2a-d6172b72227b",
   "metadata": {},
   "outputs": [
    {
     "name": "stdout",
     "output_type": "stream",
     "text": [
      "Classifier has 10 outputs. Let us demonstrate the classification of four random images from the test set:\n"
     ]
    },
    {
     "data": {
      "image/png": "[encoded data removed]",
      "text/plain": [
       "<PIL.Image.Image image mode=L size=28x28 at 0x124CD4760>"
      ]
     },
     "metadata": {},
     "output_type": "display_data"
    },
    {
     "data": {
      "image/png": "[encoded data removed]",
      "text/plain": [
       "<PIL.Image.Image image mode=L size=28x28 at 0x12448E8E0>"
      ]
     },
     "metadata": {},
     "output_type": "display_data"
    },
    {
     "data": {
      "image/png": "[encoded data removed]",
      "text/plain": [
       "<PIL.Image.Image image mode=L size=28x28 at 0x124CD4760>"
      ]
     },
     "metadata": {},
     "output_type": "display_data"
    },
    {
     "data": {
      "image/png": "[encoded data removed]",
      "text/plain": [
       "<PIL.Image.Image image mode=L size=28x28 at 0x12448E8E0>"
      ]
     },
     "metadata": {},
     "output_type": "display_data"
    },
    {
     "name": "stdout",
     "output_type": "stream",
     "text": [
      "The images above get classified as: [8 3 3 0]\n",
      "Accuracy = 0.9614 for 100 neurons in the hidden layer.\n"
     ]
    }
   ],
   "source": [
    "score100_perm= clf100_perm.score(x_test, y_test)\n",
    "print(f\"Classifier has {clf100_perm.n_outputs_} outputs. Let us demonstrate the classification of four random images from the test set:\")\n",
    "a, b, c, d = X_test_perm[np.random.choice(list(range(len(X_test_perm))), size=4)]\n",
    "display(Image.fromarray(a.reshape((28, 28)), 'L'))\n",
    "display(Image.fromarray(b.reshape((28, 28)), 'L'))\n",
    "display(Image.fromarray(c.reshape((28, 28)), 'L'))\n",
    "display(Image.fromarray(d.reshape((28, 28)), 'L'))\n",
    "print(f\"The images above get classified as: {clf100_perm.predict([a, b, c, d])}\")\n",
    "print(f\"Accuracy = {score100_perm} for 100 neurons in the hidden layer.\")"
   ]
  },
  {
   "cell_type": "code",
   "execution_count": 15,
   "id": "19c33ef1-842a-4d85-8c99-b625ec667f50",
   "metadata": {},
   "outputs": [
    {
     "name": "stdout",
     "output_type": "stream",
     "text": [
      "Accuracy = 0.686 for 10 neurons in the hidden layer with a run time of 19.63 seconds.\n",
      "Accuracy = 0.9058 for 20 neurons in the hidden layer with a run time of 43.16 seconds.\n",
      "Accuracy = 0.9467 for 40 neurons in the hidden layer with a run time of 76.38 seconds.\n",
      "Accuracy = 0.9607 for 80 neurons in the hidden layer with a run time of 60.92 seconds.\n",
      "Accuracy = 0.9614 for 100 neurons in the hidden layer with a run time of 102.88 seconds.\n"
     ]
    }
   ],
   "source": [
    "intervalHL = [10, 20, 40, 80, 100]\n",
    "for i in intervalHL:\n",
    "    if(i == 100):\n",
    "        print(f\"Accuracy = {score100_perm} for {i} neurons in the hidden layer with a run time of {round(t100,2)} seconds.\")\n",
    "    else:\n",
    "        t = time.perf_counter()\n",
    "        clf_perm = MLPClassifier(hidden_layer_sizes=(i,))\n",
    "        clf_perm.fit(X_train_perm, y_train_perm)\n",
    "        score = clf_perm.score(X_test_perm, y_test_perm)\n",
    "        t = time.perf_counter() - t\n",
    "        print(f\"Accuracy = {score} for {i} neurons in the hidden layer with a run time of {round(t,2)} seconds.\")"
   ]
  },
  {
   "cell_type": "code",
   "execution_count": null,
   "id": "0988c64a-6d71-4f24-bdb5-ee0c7b44a317",
   "metadata": {},
   "outputs": [],
   "source": []
  }
 ],
 "metadata": {
  "kernelspec": {
   "display_name": "Python 3 (ipykernel)",
   "language": "python",
   "name": "python3"
  },
  "language_info": {
   "codemirror_mode": {
    "name": "ipython",
    "version": 3
   },
   "file_extension": ".py",
   "mimetype": "text/x-python",
   "name": "python",
   "nbconvert_exporter": "python",
   "pygments_lexer": "ipython3",
   "version": "3.9.7"
  }
 },
 "nbformat": 4,
 "nbformat_minor": 5
}
