{
 "cells": [
  {
   "cell_type": "markdown",
   "metadata": {},
   "source": [
    "# Exercise 2c\n",
    "\n",
    "We will follow this online tutorial to construct our CNN and train our data: https://www.analyticsvidhya.com/blog/2019/10/building-image-classification-models-cnn-pytorch/\n",
    "\n",
    "First we import the libraries we need:"
   ]
  },
  {
   "cell_type": "code",
   "execution_count": 68,
   "metadata": {},
   "outputs": [],
   "source": [
    "# importing the libraries\n",
    "import numpy as np\n",
    "import time\n",
    "\n",
    "# for evaluating the model\n",
    "from sklearn.metrics import accuracy_score\n",
    "import matplotlib.pyplot as plt\n",
    "\n",
    "# PyTorch libraries and modules\n",
    "import torch\n",
    "import torch.nn as nn\n",
    "from torch.autograd import Variable\n",
    "from torch.nn import CrossEntropyLoss\n",
    "from torch.optim import Adam\n",
    "\n",
    "# for importing the images\n",
    "from PIL import Image\n",
    "from os import listdir\n",
    "from functools import reduce"
   ]
  },
  {
   "cell_type": "markdown",
   "metadata": {},
   "source": [
    "Next, we load the images (you might have to adjust the paths here):"
   ]
  },
  {
   "cell_type": "code",
   "execution_count": 69,
   "metadata": {},
   "outputs": [
    {
     "name": "stdout",
     "output_type": "stream",
     "text": [
      "Shape of x_train: (60000, 784); shape of y_train: (60000,).\n",
      "Shape of x_test: (10000, 784); shape of y_test: (10000,).\n"
     ]
    }
   ],
   "source": [
    "# benno\n",
    "train_folder = \"C:/Users/bennx/OneDrive/Desktop/mnist-png-format/train/\"\n",
    "test_folder = \"C:/Users/bennx/OneDrive/Desktop/mnist-png-format/test/\"\n",
    "\n",
    "# david\n",
    "# train_folder = \"../mnist-png-format/train/\"\n",
    "# test_folder = \"../mnist-png-format/test/\"\n",
    "\n",
    "def load_images(folder_path):\n",
    "    data = {float(s): [np.asarray(Image.open(f\"{folder_path}/{s}/{p}\")).reshape(-1, )\n",
    "        for p in listdir(f\"{folder_path}{s}\")\n",
    "    ] for s in listdir(folder_path)}\n",
    "\n",
    "    (ys, xs) = reduce(\n",
    "        lambda a, b: (a[0] + [b[0]]*len(b[1]), a[1] + b[1]),\n",
    "        data.items(),\n",
    "        ([], [])\n",
    "    )\n",
    "    return np.array(ys), np.array(xs)\n",
    "\n",
    "y_test1, x_test1 = load_images(test_folder)\n",
    "y_train1, x_train1 = load_images(train_folder)\n",
    "\n",
    "# normalizing the pixel values (this step helps in optimizing the performance of our model)\n",
    "x_test1 = np.float32((np.true_divide(x_test1, 255.0)))\n",
    "x_train1 = np.float32((np.true_divide(x_train1, 255.0)))\n",
    "\n",
    "print(f\"Shape of x_train: {x_train1.shape}; shape of y_train: {y_train1.shape}.\")\n",
    "print(f\"Shape of x_test: {x_test1.shape}; shape of y_test: {y_test1.shape}.\")"
   ]
  },
  {
   "cell_type": "markdown",
   "metadata": {},
   "source": [
    "Since we work with torch, we have to convert our images into a tensor format.\n",
    "\n",
    "Be aware of dtypes: float64 will be interpreted as double in torch for tensors. int32 will be interpreted as int, but we need torch.LongTensor when we use train()!"
   ]
  },
  {
   "cell_type": "code",
   "execution_count": 70,
   "metadata": {},
   "outputs": [
    {
     "name": "stdout",
     "output_type": "stream",
     "text": [
      "Shape of x_train: torch.Size([60000, 1, 28, 28]); shape of y_train: torch.Size([60000]).\n",
      "Shape of x_test: torch.Size([10000, 1, 28, 28]); shape of y_test: torch.Size([10000]).\n"
     ]
    }
   ],
   "source": [
    "# converting training images into torch format\n",
    "x_train = x_train1.reshape(60000, 1, 28, 28)\n",
    "x_train  = torch.from_numpy(x_train)\n",
    "\n",
    "# converting test images into torch format\n",
    "x_test = x_test1.reshape(10000, 1, 28, 28)\n",
    "x_test  = torch.from_numpy(x_test)\n",
    "\n",
    "# converting the train target into torch format\n",
    "y_train = y_train1.astype(int);\n",
    "y_train = torch.from_numpy(y_train)\n",
    "y_train = y_train.type(torch.LongTensor)\n",
    "\n",
    "# converting the test target into torch format\n",
    "y_test = y_test1.astype(int);\n",
    "y_test = torch.from_numpy(y_test)\n",
    "y_test = y_test.type(torch.LongTensor)\n",
    "\n",
    "# shape of training and test data\n",
    "print(f\"Shape of x_train: {x_train.shape}; shape of y_train: {y_train.shape}.\")\n",
    "print(f\"Shape of x_test: {x_test.shape}; shape of y_test: {y_test.shape}.\")"
   ]
  },
  {
   "cell_type": "markdown",
   "metadata": {},
   "source": [
    "So, let us fill the missing gaps in the exercise CNN template. Since the images above are stored in 28x28 matrices, it is clear that the first gap \"self.expected_input_size\" must have the shape (28, 28). <br>\n",
    "\n",
    "The second gap is a little bit more complicated. Lets skip it and first do the last gap: \"nn.Linear(1536, ___)\". This is the last layer (the layer for the final classification). Our data are digits from 0 to 9, thus the value in the missing gap must be 10, since the result should be one of the 10 classes.<br>\n",
    "\n",
    "Now the second gap: in_channels is also quite simple, our images are in greyscale, so there is only one incoming channel (RGB would be for example 3). We know that the last layer has dimension $1536 \\times 1$ after flattening. So we can calculate the out_channels and kernel_size since we know the input size and stride. First we do a prime factorization of $1536 = 2^9 \\cdot 3$. Since we have a quadratic matrix, we will have its output size after the first layer squared and then multiplied with the number of output channels. We can conclude from the prime factorization that the number of out_channels is either 6, 24, 96, ..., therefore we consider the following formula to calculate the output size (before out_channels): $o = \\frac{i-k+2p}{s}+1$, where $i$ is the input size, $k$ the kernel size, $p$ the padding and $s$ the stride. In our case $i=28, p=0, s=3$, so to get a reasonable value for $o$ (the kernel should be bigger than 1 but not too big) we can estimate the kernel. We see that if $1 \\leq k \\leq 4$ we will get $o=9$, which cannot be the case, since 1536 has not enough 3's as prime factors. We conclude that $5 \\leq k \\leq 7$ to get $o=8$ (depending on the implementation, but usually the fraction above will be rounded down to the nearest integer). To be safe we choose $k=7$. Now we can calculate the missing factor and conclude out_channels = 24."
   ]
  },
  {
   "cell_type": "code",
   "execution_count": 71,
   "metadata": {},
   "outputs": [],
   "source": [
    "class Flatten(nn.Module):\n",
    "    def forward(self, x):\n",
    "        x = x.view(x.size()[0], -1)\n",
    "        return x\n",
    "\n",
    "class PR_CNN(nn.Module):\n",
    "    def __init__(self, **kwargs):\n",
    "        super(PR_CNN, self).__init__()\n",
    "\n",
    "        self.expected_input_size = (28, 28)\n",
    "\n",
    "        # First layer\n",
    "        self.conv1 = nn.Sequential(\n",
    "            nn.Conv2d(in_channels=1, out_channels=24, kernel_size=7, stride=3),\n",
    "            nn.LeakyReLU()\n",
    "        )\n",
    "\n",
    "        # Classification layer\n",
    "        self.fc = nn.Sequential(\n",
    "            Flatten(),\n",
    "            nn.Linear(1536, 10)\n",
    "        )\n",
    "\n",
    "    def forward(self, x):\n",
    "        x = self.conv1(x)\n",
    "        x = self.fc(x)\n",
    "        return x"
   ]
  },
  {
   "cell_type": "markdown",
   "metadata": {},
   "source": [
    "Now it is time to define a model to test the implementation. Since we are not really familiar with the best optimizers or loss functions, we just copied the ones from the tutorial."
   ]
  },
  {
   "cell_type": "code",
   "execution_count": 72,
   "metadata": {},
   "outputs": [
    {
     "name": "stdout",
     "output_type": "stream",
     "text": [
      "PR_CNN(\n",
      "  (conv1): Sequential(\n",
      "    (0): Conv2d(1, 24, kernel_size=(7, 7), stride=(3, 3))\n",
      "    (1): LeakyReLU(negative_slope=0.01)\n",
      "  )\n",
      "  (fc): Sequential(\n",
      "    (0): Flatten()\n",
      "    (1): Linear(in_features=1536, out_features=10, bias=True)\n",
      "  )\n",
      ")\n"
     ]
    }
   ],
   "source": [
    "# defining the model\n",
    "model = PR_CNN()\n",
    "# defining the optimizer\n",
    "optimizer = Adam(model.parameters(), lr=0.07)\n",
    "# defining the loss function\n",
    "criterion = CrossEntropyLoss()\n",
    "# checking if GPU is available\n",
    "if torch.cuda.is_available():\n",
    "    model = model.cuda()\n",
    "    criterion = criterion.cuda()\n",
    "    \n",
    "print(model)"
   ]
  },
  {
   "cell_type": "markdown",
   "metadata": {},
   "source": [
    "Now we have the model of our CNN, but we also need to define a function to train the model:"
   ]
  },
  {
   "cell_type": "code",
   "execution_count": 73,
   "metadata": {},
   "outputs": [],
   "source": [
    "def get_train(model, opt, silent=True):\n",
    "    def train(epoch):\n",
    "        model.train()\n",
    "        # getting the training set\n",
    "        x_tr, y_tr = Variable(x_train), Variable(y_train)\n",
    "        # converting the data into GPU format\n",
    "        if torch.cuda.is_available():\n",
    "            x_tr = x_tr.cuda()\n",
    "            y_tr = y_tr.cuda()\n",
    "\n",
    "        # clearing the Gradients of the model parameters\n",
    "        opt.zero_grad()\n",
    "        \n",
    "        # prediction for training  set\n",
    "        output_train = model(x_tr)\n",
    "\n",
    "        # computing the training loss\n",
    "        loss_train = criterion(output_train, y_tr)\n",
    "        train_losses.append(loss_train)\n",
    "\n",
    "        # computing the updated weights of all the model parameters\n",
    "        loss_train.backward()\n",
    "        opt.step()\n",
    "        if epoch%2 == 0 and not silent:\n",
    "            # printing the train loss\n",
    "            print('Epoch : ',epoch+1, '\\t', 'loss :', loss_train.detach())\n",
    "    \n",
    "    return train"
   ]
  },
  {
   "cell_type": "markdown",
   "metadata": {},
   "source": [
    "And finally we can start train the model. As a test we start with 25 epochs."
   ]
  },
  {
   "cell_type": "code",
   "execution_count": 74,
   "metadata": {},
   "outputs": [
    {
     "name": "stdout",
     "output_type": "stream",
     "text": [
      "Epoch :  1 \t loss : tensor(2.2953)\n",
      "Epoch :  3 \t loss : tensor(4.2645)\n",
      "Epoch :  5 \t loss : tensor(1.3277)\n",
      "Epoch :  7 \t loss : tensor(0.9407)\n",
      "Epoch :  9 \t loss : tensor(0.6112)\n",
      "Epoch :  11 \t loss : tensor(0.3943)\n",
      "Epoch :  13 \t loss : tensor(0.3768)\n",
      "Epoch :  15 \t loss : tensor(0.3102)\n",
      "Epoch :  17 \t loss : tensor(0.2874)\n",
      "Epoch :  19 \t loss : tensor(0.2515)\n",
      "Epoch :  21 \t loss : tensor(0.2408)\n",
      "Epoch :  23 \t loss : tensor(0.2223)\n",
      "Epoch :  25 \t loss : tensor(0.2141)\n",
      "Time spent to the train the model: 39.21 seconds.\n"
     ]
    }
   ],
   "source": [
    "t25 = time.perf_counter()\n",
    "# defining the number of epochs\n",
    "n_epochs = 25\n",
    "# empty list to store training losses\n",
    "train_losses = []\n",
    "# training the model\n",
    "for epoch in range(n_epochs):\n",
    "    get_train(model, optimizer, silent=False)(epoch)\n",
    "t25 = time.perf_counter() - t25\n",
    "print(f\"Time spent to the train the model: {round(t25,2)} seconds.\")"
   ]
  },
  {
   "cell_type": "code",
   "execution_count": 75,
   "metadata": {},
   "outputs": [
    {
     "data": {
      "image/png": "[encoded data removed]",
      "text/plain": [
       "<Figure size 432x288 with 1 Axes>"
      ]
     },
     "metadata": {
      "needs_background": "light"
     },
     "output_type": "display_data"
    }
   ],
   "source": [
    "# plotting the training loss\n",
    "train_losses = [x.detach() for x in train_losses]\n",
    "plt.plot(train_losses, label='Training loss')\n",
    "plt.legend()\n",
    "plt.show()"
   ]
  },
  {
   "cell_type": "code",
   "execution_count": 76,
   "metadata": {},
   "outputs": [
    {
     "data": {
      "text/plain": [
       "0.9391"
      ]
     },
     "execution_count": 76,
     "metadata": {},
     "output_type": "execute_result"
    }
   ],
   "source": [
    "# prediction for training set\n",
    "# with torch.no_grad():\n",
    "#     output = model(x_train.cuda())\n",
    "\n",
    "with torch.no_grad():\n",
    "     output_tr = model(x_train) \n",
    "softmax_tr = torch.exp(output_tr).cpu()\n",
    "prob_tr = list(softmax_tr.numpy())\n",
    "predictions_tr = np.argmax(prob_tr, axis=1)\n",
    "\n",
    "# accuracy on training set\n",
    "accuracy_score(y_train, predictions_tr)"
   ]
  },
  {
   "cell_type": "code",
   "execution_count": 77,
   "metadata": {},
   "outputs": [
    {
     "data": {
      "text/plain": [
       "0.943"
      ]
     },
     "execution_count": 77,
     "metadata": {},
     "output_type": "execute_result"
    }
   ],
   "source": [
    "# generating predictions for test set\n",
    "# with torch.no_grad():\n",
    "#     output = model(x_test.cuda())\n",
    "\n",
    "with torch.no_grad():\n",
    "    output_te = model(x_test)\n",
    "\n",
    "softmax_te = torch.exp(output_te).cpu()\n",
    "prob_te = list(softmax_te.numpy())\n",
    "predictions_te = np.argmax(prob_te, axis=1)\n",
    "\n",
    "# accuracy on training set\n",
    "accuracy_score(y_test, predictions_te)"
   ]
  },
  {
   "cell_type": "markdown",
   "metadata": {},
   "source": [
    "Everything works so far. Now we optimize our classifier (relative to the test data). First we try different learning rates:"
   ]
  },
  {
   "cell_type": "code",
   "execution_count": 79,
   "metadata": {},
   "outputs": [
    {
     "name": "stdout",
     "output_type": "stream",
     "text": [
      "accuracy 0.8282 for lr=0.001 (time spent to train: 39.3 seconds)\n",
      "accuracy 0.9179 for lr=0.005 (time spent to train: 38.93 seconds)\n",
      "accuracy 0.9315 for lr=0.01 (time spent to train: 41.26 seconds)\n",
      "accuracy 0.9534 for lr=0.05 (time spent to train: 38.68 seconds)\n",
      "accuracy 0.9241 for lr=0.1 (time spent to train: 37.65 seconds)\n"
     ]
    }
   ],
   "source": [
    "def train_with_n_epochs(n_epochs, train):\n",
    "    t = time.perf_counter()\n",
    "\n",
    "    for e in range(n_epochs):\n",
    "        train(e)\n",
    "\n",
    "    return time.perf_counter() - t\n",
    "\n",
    "def train_and_eval(n_epochs, lr):\n",
    "    model = PR_CNN()\n",
    "    opt = Adam(model.parameters(), lr=lr)\n",
    "    t = train_with_n_epochs(n_epochs, get_train(model, opt))\n",
    "\n",
    "    with torch.no_grad():\n",
    "            output_train = model(x_train)\n",
    "            output_test = model(x_test)\n",
    "\n",
    "    predictions_test = np.argmax(\n",
    "        torch.exp(output_test)\n",
    "            .cpu()\n",
    "            .numpy(),\n",
    "        axis=1\n",
    "    )\n",
    "    predictions_train = np.argmax(\n",
    "        torch.exp(output_train)\n",
    "            .cpu()\n",
    "            .numpy(),\n",
    "        axis=1\n",
    "    )\n",
    "\n",
    "    return t, accuracy_score(y_test, predictions_test), accuracy_score(y_train, predictions_train)\n",
    "\n",
    "rates = [0.001, 0.005, 0.01, 0.05, 0.1]\n",
    "accuracies = [train_and_eval(25, lr) for lr in rates]\n",
    "for (t_acc, lr) in zip(accuracies, rates):\n",
    "    t, acc_te, acc_tr, = t_acc\n",
    "    print(f\"accuracy {acc_te} for lr={lr} (time spent to train: {round(t, 2)} seconds)\")"
   ]
  },
  {
   "cell_type": "markdown",
   "metadata": {},
   "source": [
    "We seem to get the best results for a learning rate around 0.05. Let's now try different numbers of epochs:"
   ]
  },
  {
   "cell_type": "code",
   "execution_count": 80,
   "metadata": {},
   "outputs": [
    {
     "name": "stdout",
     "output_type": "stream",
     "text": [
      "accuracy 0.9741 for n_epochs=60 (time spent to train: 96.39 seconds)\n",
      "accuracy 0.9687 for n_epochs=50 (time spent to train: 77.41 seconds)\n",
      "accuracy 0.9618 for n_epochs=40 (time spent to train: 60.5 seconds)\n",
      "accuracy 0.9567 for n_epochs=30 (time spent to train: 46.15 seconds)\n",
      "accuracy 0.9453 for n_epochs=20 (time spent to train: 30.79 seconds)\n",
      "accuracy 0.8751 for n_epochs=10 (time spent to train: 17.0 seconds)\n",
      "accuracy 0.7581 for n_epochs=5 (time spent to train: 8.65 seconds)\n"
     ]
    }
   ],
   "source": [
    "ns_epochs = [60, 50, 40, 30, 20, 10, 5]\n",
    "accuracies = [train_and_eval(ne, 0.05) for ne in ns_epochs]\n",
    "\n",
    "for (t_acc, n_epochs) in zip(accuracies, ns_epochs):\n",
    "    t, acc_te, acc_tr, = t_acc\n",
    "    print(f\"accuracy {acc_te} for n_epochs={n_epochs} (time spent to train: {round(t, 2)} seconds)\")"
   ]
  },
  {
   "cell_type": "code",
   "execution_count": 81,
   "metadata": {},
   "outputs": [
    {
     "data": {
      "image/png": "[encoded data removed]",
      "text/plain": [
       "<Figure size 432x288 with 2 Axes>"
      ]
     },
     "metadata": {
      "needs_background": "light"
     },
     "output_type": "display_data"
    }
   ],
   "source": [
    "accuracy_data_test = [acc for (_, acc, _) in accuracies]\n",
    "accuracy_data_train = [acc for (_, _, acc) in accuracies]\n",
    "fig, ax = plt.subplots(2, sharex=True, sharey=True)\n",
    "ax[0].plot(ns_epochs, accuracy_data_train)\n",
    "ax[0].set_title('Train')\n",
    "ax[1].plot(ns_epochs, accuracy_data_test)\n",
    "ax[1].set_title('Test')\n",
    "fig.suptitle(\"Accuracy over epochs\", fontsize=14)\n",
    "plt.show()"
   ]
  },
  {
   "cell_type": "markdown",
   "metadata": {},
   "source": [
    "We seem to reach a plateau in the accuracy of the learning process at around 40 epochs, so 40 should be enough."
   ]
  },
  {
   "cell_type": "code",
   "execution_count": 83,
   "metadata": {},
   "outputs": [
    {
     "name": "stdout",
     "output_type": "stream",
     "text": [
      "Epoch :  1 \t loss : tensor(2.2995)\n",
      "Epoch :  3 \t loss : tensor(6.4693)\n",
      "Epoch :  5 \t loss : tensor(2.8004)\n",
      "Epoch :  7 \t loss : tensor(1.9903)\n",
      "Epoch :  9 \t loss : tensor(0.8524)\n",
      "Epoch :  11 \t loss : tensor(0.8609)\n",
      "Epoch :  13 \t loss : tensor(0.5326)\n",
      "Epoch :  15 \t loss : tensor(0.5527)\n",
      "Epoch :  17 \t loss : tensor(0.4426)\n",
      "Epoch :  19 \t loss : tensor(0.4131)\n",
      "Epoch :  21 \t loss : tensor(0.3677)\n",
      "Epoch :  23 \t loss : tensor(0.3471)\n",
      "Epoch :  25 \t loss : tensor(0.3030)\n",
      "Epoch :  27 \t loss : tensor(0.2894)\n",
      "Epoch :  29 \t loss : tensor(0.2730)\n",
      "Epoch :  31 \t loss : tensor(0.2479)\n",
      "Epoch :  33 \t loss : tensor(0.2416)\n",
      "Epoch :  35 \t loss : tensor(0.2252)\n",
      "Epoch :  37 \t loss : tensor(0.2152)\n",
      "Epoch :  39 \t loss : tensor(0.2084)\n",
      "Time spent to the train the optimized model: 62.77 seconds.\n"
     ]
    }
   ],
   "source": [
    "t40 = time.perf_counter()\n",
    "# defining the number of epochs\n",
    "n_epochs = 40\n",
    "# empty list to store training losses\n",
    "train_losses = []\n",
    "# training the model\n",
    "model = PR_CNN()\n",
    "optimizer = Adam(model.parameters(), lr=0.05)\n",
    "for epoch in range(n_epochs):\n",
    "    get_train(model, optimizer, silent=False)(epoch)\n",
    "t40 = time.perf_counter() - t40\n",
    "print(f\"Time spent to the train the optimized model: {round(t40,2)} seconds.\")"
   ]
  },
  {
   "cell_type": "code",
   "execution_count": 84,
   "metadata": {},
   "outputs": [
    {
     "data": {
      "image/png": "[encoded data removed]",
      "text/plain": [
       "<Figure size 432x288 with 1 Axes>"
      ]
     },
     "metadata": {
      "needs_background": "light"
     },
     "output_type": "display_data"
    }
   ],
   "source": [
    "# plotting the training loss\n",
    "train_losses = [x.detach() for x in train_losses]\n",
    "plt.plot(train_losses, label='Training loss')\n",
    "plt.legend()\n",
    "plt.show()"
   ]
  }
 ],
 "metadata": {
  "interpreter": {
   "hash": "e4876ffb0edad661dde9910715b8d0b71026c06e8e8e3a754ed29e13fca540a5"
  },
  "kernelspec": {
   "display_name": "Python 3.9.9 ('init': venv)",
   "language": "python",
   "name": "python3"
  },
  "language_info": {
   "codemirror_mode": {
    "name": "ipython",
    "version": 3
   },
   "file_extension": ".py",
   "mimetype": "text/x-python",
   "name": "python",
   "nbconvert_exporter": "python",
   "pygments_lexer": "ipython3",
   "version": "3.10.4"
  },
  "orig_nbformat": 4
 },
 "nbformat": 4,
 "nbformat_minor": 2
}
